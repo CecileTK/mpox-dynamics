{
 "cells": [
  {
   "cell_type": "code",
   "execution_count": 28,
   "id": "922d9525",
   "metadata": {},
   "outputs": [],
   "source": [
    "import pandas as pd\n",
    "import jax.numpy as jnp\n",
    "import evofr as ef\n",
    "import numpy as np"
   ]
  },
  {
   "cell_type": "code",
   "execution_count": 86,
   "id": "ed4c6dd6",
   "metadata": {},
   "outputs": [
    {
     "data": {
      "text/plain": [
       "World             270\n",
       "United Kingdom    265\n",
       "Portugal          255\n",
       "Spain             254\n",
       "Belgium           253\n",
       "France            253\n",
       "Italy             253\n",
       "Germany           252\n",
       "Switzerland       251\n",
       "Austria           249\n",
       "Slovenia          248\n",
       "Canada            238\n",
       "United States     238\n",
       "Colombia          216\n",
       "Peru              213\n",
       "Slovakia          204\n",
       "Name: location, dtype: int64"
      ]
     },
     "execution_count": 86,
     "metadata": {},
     "output_type": "execute_result"
    }
   ],
   "source": [
    "# Getting data\n",
    "raw_cases = pd.read_csv(\"../data/monkeypox-cases-counts.tsv\", sep=\"\\t\")\n",
    "raw_cases.location.value_counts()"
   ]
  },
  {
   "cell_type": "code",
   "execution_count": 87,
   "id": "05bac068",
   "metadata": {},
   "outputs": [],
   "source": [
    "region = {'Canada':'North America',\n",
    "          'United States':'North America',\n",
    "         'Finland':'Northern Europe',\n",
    "           'Austria': 'Western Europe',\n",
    "        'Germany':'Western Europe', \n",
    "        'Switzerland':'Western Europe',\n",
    "         'United Kingdom':'Western Europe',\n",
    "        'France':'Western Europe',\n",
    "        'Belgium':'Western Europe',\n",
    "        'Netherlands':'Western Europe',\n",
    "        'Slovakia':'Central Europe',\n",
    "        'Slovenia':'Central Europe',\n",
    "        'Italy':'Southern Europe',\n",
    "        'Portugal':'Southern Europe',\n",
    "        'Spain':'Southern Europe',\n",
    "         'Colombia':'South America',\n",
    "          \n",
    "        'Peru':'South America'}"
   ]
  },
  {
   "cell_type": "code",
   "execution_count": 88,
   "id": "cc28ddc0",
   "metadata": {},
   "outputs": [],
   "source": [
    "raw_cases[\"region\"] = np.nan\n",
    "raw_cases.region = raw_cases.location.map(region)\n",
    "raw_cases = raw_cases.dropna()\n"
   ]
  },
  {
   "cell_type": "code",
   "execution_count": 107,
   "id": "3037efec",
   "metadata": {},
   "outputs": [
    {
     "data": {
      "text/plain": [
       "Western Europe     1523\n",
       "Southern Europe     762\n",
       "North America       476\n",
       "Central Europe      452\n",
       "South America       429\n",
       "Name: region, dtype: int64"
      ]
     },
     "execution_count": 107,
     "metadata": {},
     "output_type": "execute_result"
    }
   ],
   "source": [
    "raw_cases = raw_cases.dropna()\n",
    "raw_cases.region.value_counts()"
   ]
  },
  {
   "cell_type": "code",
   "execution_count": 90,
   "id": "66dc3277",
   "metadata": {},
   "outputs": [],
   "source": [
    "locations_to_run = raw_cases[\"region\"].unique()\n",
    "#locations_to_run = [\"World\", \"United States\"] # Comment out this line to run all locations"
   ]
  },
  {
   "cell_type": "code",
   "execution_count": 91,
   "id": "d1477782",
   "metadata": {},
   "outputs": [],
   "source": [
    "# Make case_data dictionary\n",
    "case_data = dict()\n",
    "for name in locations_to_run:\n",
    "    case_data[name] = ef.CaseCounts(raw_cases=raw_cases[raw_cases.region == name].copy())"
   ]
  },
  {
   "cell_type": "code",
   "execution_count": 92,
   "id": "9ca1a23d",
   "metadata": {},
   "outputs": [],
   "source": [
    "# Defining model\n",
    "seed_L = 40\n",
    "forecast_L = 0\n",
    "\n",
    "# Get delays\n",
    "gen = ef.discretise_gamma(mn=34.0, std=6.2)\n",
    "delays = ef.pad_delays([ef.discretise_lognorm(mn=4.1, std=1.0)])\n",
    "inf_period = ef.discretise_gamma(mn=14, std=4.2)\n",
    "basis_fn = ef.Spline(order=4, k=3)\n",
    "\n",
    "renewal_model = ef.SingleRenewalModel(gen, delays, seed_L, forecast_L,\n",
    "                       inf_period = inf_period,\n",
    "                       CLik = ef.ZINegBinomCases(0.01),\n",
    "                       basis_fn = basis_fn)"
   ]
  },
  {
   "cell_type": "code",
   "execution_count": 93,
   "id": "2a7e6608",
   "metadata": {},
   "outputs": [
    {
     "name": "stdout",
     "output_type": "stream",
     "text": [
      "Western Europe\n"
     ]
    },
    {
     "name": "stderr",
     "output_type": "stream",
     "text": [
      "sample: 100%|████████████████████████████████████████████████████████████████████████████████████████████████████████████████| 400/400 [00:51<00:00,  7.72it/s, 1023 steps of size 1.06e-03. acc. prob=0.78]\n"
     ]
    },
    {
     "name": "stdout",
     "output_type": "stream",
     "text": [
      "North America\n"
     ]
    },
    {
     "name": "stderr",
     "output_type": "stream",
     "text": [
      "sample: 100%|████████████████████████████████████████████████████████████████████████████████████████████████████████████████| 400/400 [00:46<00:00,  8.57it/s, 1023 steps of size 6.19e-04. acc. prob=0.88]\n"
     ]
    },
    {
     "name": "stdout",
     "output_type": "stream",
     "text": [
      "South America\n"
     ]
    },
    {
     "name": "stderr",
     "output_type": "stream",
     "text": [
      "sample: 100%|████████████████████████████████████████████████████████████████████████████████████████████████████████████████| 400/400 [00:42<00:00,  9.49it/s, 1023 steps of size 1.07e-03. acc. prob=0.82]\n"
     ]
    },
    {
     "name": "stdout",
     "output_type": "stream",
     "text": [
      "Southern Europe\n"
     ]
    },
    {
     "name": "stderr",
     "output_type": "stream",
     "text": [
      "sample: 100%|████████████████████████████████████████████████████████████████████████████████████████████████████████████████| 400/400 [00:50<00:00,  7.86it/s, 1023 steps of size 6.36e-04. acc. prob=0.87]\n"
     ]
    },
    {
     "name": "stdout",
     "output_type": "stream",
     "text": [
      "Central Europe\n"
     ]
    },
    {
     "name": "stderr",
     "output_type": "stream",
     "text": [
      "sample: 100%|████████████████████████████████████████████████████████████████████████████████████████████████████████████████| 400/400 [00:49<00:00,  8.11it/s, 1023 steps of size 7.64e-09. acc. prob=0.81]\n"
     ]
    }
   ],
   "source": [
    "# Fitting model\n",
    "multiposterior = ef.MultiPosterior()\n",
    "for name, data in case_data.items():\n",
    "    print(name)\n",
    "    init_strat, posterior_map = ef.init_to_MAP(renewal_model, data, iters=100_000)\n",
    "    inference_method = ef.InferNUTS(num_warmup=200, num_samples=200, init_strategy=init_strat)\n",
    "    posterior = inference_method.fit(renewal_model, data, name=name)\n",
    "    multiposterior.add_posterior(posterior)"
   ]
  },
  {
   "cell_type": "code",
   "execution_count": 94,
   "id": "5ee1e846",
   "metadata": {},
   "outputs": [],
   "source": [
    "import matplotlib\n",
    "import matplotlib.pyplot as plt\n",
    "import matplotlib.transforms as mtransforms\n",
    "\n",
    "font = {'family' : 'Helvetica',\n",
    "        'weight' : 'light',\n",
    "        'size'   : 16}\n",
    "\n",
    "matplotlib.rc('font', **font)"
   ]
  },
  {
   "cell_type": "code",
   "execution_count": 95,
   "id": "6f635f1e",
   "metadata": {},
   "outputs": [],
   "source": [
    "ps = [0.95, 0.8, 0.5]\n",
    "alphas = [0.2, 0.4, 0.6]\n",
    "\n",
    "v_colors = [\"#56e39f\", \"#89CFF0\", \"#C70039\",  \"#5567aa\", \"#c5d46f\", \"#aa34a4\", \"#808080\"]"
   ]
  },
  {
   "cell_type": "code",
   "execution_count": 96,
   "id": "4bac2818",
   "metadata": {},
   "outputs": [],
   "source": [
    "from evofr.plotting import *\n",
    "\n",
    "def simple_axis(ax):\n",
    "    ax.spines['top'].set_visible(False)\n",
    "    ax.spines['right'].set_visible(False)"
   ]
  },
  {
   "cell_type": "code",
   "execution_count": 97,
   "id": "be498ebc",
   "metadata": {},
   "outputs": [],
   "source": [
    "def plot_site(ax, site, samples, ps, alphas, color):\n",
    "    med, V = get_quantiles(samples, ps, site)\n",
    "    t = jnp.arange(0, V[-1].shape[-1], 1)\n",
    "\n",
    "    # Make figure\n",
    "    for i in range(len(ps)):\n",
    "        ax.fill_between(\n",
    "            t, V[i][0, :], V[i][1, :], color=color, alpha=alphas[i]\n",
    "        )\n",
    "    ax.plot(t, med, color=color)"
   ]
  },
  {
   "cell_type": "code",
   "execution_count": 98,
   "id": "0d8aa1cd",
   "metadata": {},
   "outputs": [],
   "source": [
    "def plot_posterior_Reff_r(posterior, color=\"grey\"):\n",
    "    fig = plt.figure(figsize=(14, 10))\n",
    "    gs = fig.add_gridspec(nrows=2, ncols=1)\n",
    "\n",
    "    # Plot Reff\n",
    "    ax = fig.add_subplot(gs[0,0])\n",
    "    plot_site(ax, \"R\", posterior.samples, ps, alphas, color)\n",
    "    ax.set_ylabel(\"Effective Reproduction number\") # Making ylabel\n",
    "\n",
    "    # Plot little R\n",
    "    ax = fig.add_subplot(gs[1,0], sharex=ax)\n",
    "    plot_site(ax, \"r\", posterior.samples, ps, alphas, color)\n",
    "    ax.set_ylabel(\"Epidemic growth rate (per day)\") # Making ylabel\n",
    "\n",
    "    # Add dates\n",
    "    add_dates_sep(ax, posterior.data.dates, sep=20) # Adding dates\n",
    "\n",
    "    fig.tight_layout()\n",
    "    fig.subplots_adjust(bottom = 0.1)\n",
    "    return None"
   ]
  },
  {
   "cell_type": "code",
   "execution_count": 99,
   "id": "a6482873",
   "metadata": {},
   "outputs": [],
   "source": [
    "def plot_posterior_Ismooth_cases(posterior, color=\"grey\"):\n",
    "    fig = plt.figure(figsize=(14, 7))\n",
    "    gs = fig.add_gridspec(nrows=1, ncols=1)\n",
    "\n",
    "    # Plot smoothed incidence\n",
    "    ax = fig.add_subplot(gs[0,0])\n",
    "    plot_site(ax, \"I_smooth\", posterior.samples, ps, alphas, color)\n",
    "\n",
    "    plot_cases(ax, posterior.data)\n",
    "    ax.set_ylabel(\"Cases\") # Making ylabel\n",
    "    add_dates_sep(ax, posterior.data.dates, sep=20) # Adding dates\n",
    "    return None"
   ]
  },
  {
   "cell_type": "code",
   "execution_count": 116,
   "id": "d949f344",
   "metadata": {},
   "outputs": [],
   "source": [
    "def plot_cute_posterior(posterior, main_color=\"#FF00FF\", title=\"\"):\n",
    "    fig = plt.figure(figsize=(14, 8))\n",
    "    gs = fig.add_gridspec(nrows=2, ncols=1, height_ratios=[0.7, 0.3])\n",
    "\n",
    "    # Plot smoothed incidence and cases\n",
    "    ax = fig.add_subplot(gs[0,0])\n",
    "    simple_axis(ax)\n",
    "    plot_site(ax, \"I_smooth\", posterior.samples, ps, alphas, main_color)\n",
    "    plot_cases(ax, posterior.data)\n",
    "    ax.set_ylabel(\"Cases\") # Making ylabel\n",
    "    add_dates_sep(ax, posterior.data.dates, sep=20) # Adding dates\n",
    "    ax.set_title(title)\n",
    "    \n",
    "    # Plot Reff\n",
    "    ax = fig.add_subplot(gs[1,0])\n",
    "    simple_axis(ax)\n",
    "    plot_site(ax, \"R\", posterior.samples, ps, alphas, main_color)\n",
    "    ax.set_ylabel(r\"$R_{t}$\") # Making ylabel\n",
    "    add_dates_sep(ax, posterior.data.dates, sep=14) # Adding dates\n",
    "    ax.axhline(y=1.0, color=\"k\", linestyle=\"--\")\n",
    "    return None"
   ]
  },
  {
   "cell_type": "code",
   "execution_count": 126,
   "id": "99b742ca",
   "metadata": {},
   "outputs": [
    {
     "data": {
      "image/png": "[encoded data removed]",
      "text/plain": [
       "<Figure size 1008x576 with 2 Axes>"
      ]
     },
     "metadata": {
      "needs_background": "light"
     },
     "output_type": "display_data"
    }
   ],
   "source": [
    "posterior = multiposterior[\"Western Europe\"]\n",
    "plot_cute_posterior(posterior, main_color=\"#14888c\", title=\"Western Europe\")"
   ]
  },
  {
   "cell_type": "code",
   "execution_count": 20,
   "id": "570eec79",
   "metadata": {},
   "outputs": [],
   "source": [
    "def get_site(\n",
    "    samples, data, ps, name, site, forecast=False\n",
    "):\n",
    "\n",
    "    dates = data.dates\n",
    "\n",
    "    # Unpack posterior\n",
    "    site_name = site + \"_forecast\" if forecast else site\n",
    "    site = samples[site_name]\n",
    "    T = len(dates)\n",
    "\n",
    "    if forecast:\n",
    "        dates = forecast_dates(dates, T)\n",
    "\n",
    "    # Compute medians and hdis for ps\n",
    "    site_median = jnp.median(site, axis=0)\n",
    "\n",
    "    site_hdis = [\n",
    "        jnp.quantile(site, q=jnp.array([0.5 * (1 - p), 0.5 * (1 + p)]), axis=0)\n",
    "        for p in ps\n",
    "    ]\n",
    "\n",
    "    site_dict = dict()\n",
    "    site_dict[\"date\"] = list(dates)\n",
    "    site_dict[\"region\"] = [name] * T\n",
    "    site_dict[f\"median_{site_name}\"] = list(site_median)[-T:]\n",
    "    for i, p in enumerate(ps):\n",
    "        site_dict[f\"{site_name}_upper_{round(ps[i] * 100)}\"] = list(site_hdis[i][1, -T:])\n",
    "        site_dict[f\"{site_name}_lower_{round(ps[i] * 100)}\"] = list(site_hdis[i][0, -T:])        \n",
    "    return site_dict"
   ]
  },
  {
   "cell_type": "code",
   "execution_count": 120,
   "id": "4f00913b",
   "metadata": {},
   "outputs": [],
   "source": [
    "def site_posteriors_to_dataframe(mp, site, ps):\n",
    "    dfs = []\n",
    "    for name, post in multiposterior.locator.items():\n",
    "        site_dict_name = get_site(post.samples, post.data, ps, name, site, forecast=False)\n",
    "        print(name)\n",
    "        dfs.append(\n",
    "            pd.DataFrame(site_dict_name)\n",
    "        )\n",
    "    return pd.concat(dfs)"
   ]
  },
  {
   "cell_type": "code",
   "execution_count": 121,
   "id": "103d4dd7",
   "metadata": {},
   "outputs": [
    {
     "name": "stdout",
     "output_type": "stream",
     "text": [
      "Western Europe\n",
      "North America\n",
      "South America\n",
      "Southern Europe\n",
      "Central Europe\n"
     ]
    }
   ],
   "source": [
    "Rt_estimates = site_posteriors_to_dataframe(multiposterior, \"R\", [0.8])"
   ]
  },
  {
   "cell_type": "code",
   "execution_count": 122,
   "id": "1bd3634c",
   "metadata": {},
   "outputs": [
    {
     "name": "stdout",
     "output_type": "stream",
     "text": [
      "Western Europe\n",
      "North America\n",
      "South America\n",
      "Southern Europe\n",
      "Central Europe\n"
     ]
    }
   ],
   "source": [
    "incidence_estimates = site_posteriors_to_dataframe(multiposterior, \"I_smooth\", [0.8])"
   ]
  },
  {
   "cell_type": "code",
   "execution_count": 123,
   "id": "3e0fffc9",
   "metadata": {},
   "outputs": [
    {
     "name": "stdout",
     "output_type": "stream",
     "text": [
      "Western Europe\n",
      "North America\n",
      "South America\n",
      "Southern Europe\n",
      "Central Europe\n"
     ]
    }
   ],
   "source": [
    "prev_estimates = site_posteriors_to_dataframe(multiposterior, \"prev\", [0.8])"
   ]
  },
  {
   "cell_type": "code",
   "execution_count": 124,
   "id": "792ee249",
   "metadata": {},
   "outputs": [],
   "source": [
    "Rt_estimates.to_csv(\"case-rt-estimates.tsv\", index=False, sep=\"\\t\")\n",
    "incidence_estimates.to_csv(\"case-incidence-estimates.tsv\", index=False, sep=\"\\t\")\n",
    "prev_estimates.to_csv(\"case-prevalence-estimates.tsv\", index=False, sep=\"\\t\")"
   ]
  },
  {
   "cell_type": "code",
   "execution_count": null,
   "id": "7d430855",
   "metadata": {},
   "outputs": [],
   "source": []
  }
 ],
 "metadata": {
  "kernelspec": {
   "display_name": "Python 3 (ipykernel)",
   "language": "python",
   "name": "python3"
  },
  "language_info": {
   "codemirror_mode": {
    "name": "ipython",
    "version": 3
   },
   "file_extension": ".py",
   "mimetype": "text/x-python",
   "name": "python",
   "nbconvert_exporter": "python",
   "pygments_lexer": "ipython3",
   "version": "3.9.16"
  }
 },
 "nbformat": 4,
 "nbformat_minor": 5
}

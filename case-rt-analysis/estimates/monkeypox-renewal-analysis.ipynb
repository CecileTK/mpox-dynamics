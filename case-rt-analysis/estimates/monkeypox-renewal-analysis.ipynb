{
 "cells": [
  {
   "cell_type": "code",
   "execution_count": 33,
   "id": "922d9525",
   "metadata": {},
   "outputs": [],
   "source": [
    "import pandas as pd\n",
    "import jax.numpy as jnp\n",
    "import evofr as ef"
   ]
  },
  {
   "cell_type": "code",
   "execution_count": 34,
   "id": "ed4c6dd6",
   "metadata": {},
   "outputs": [
    {
     "data": {
      "text/html": [
       "<div>\n",
       "<style scoped>\n",
       "    .dataframe tbody tr th:only-of-type {\n",
       "        vertical-align: middle;\n",
       "    }\n",
       "\n",
       "    .dataframe tbody tr th {\n",
       "        vertical-align: top;\n",
       "    }\n",
       "\n",
       "    .dataframe thead th {\n",
       "        text-align: right;\n",
       "    }\n",
       "</style>\n",
       "<table border=\"1\" class=\"dataframe\">\n",
       "  <thead>\n",
       "    <tr style=\"text-align: right;\">\n",
       "      <th></th>\n",
       "      <th>location</th>\n",
       "      <th>date</th>\n",
       "      <th>cases</th>\n",
       "    </tr>\n",
       "  </thead>\n",
       "  <tbody>\n",
       "    <tr>\n",
       "      <th>0</th>\n",
       "      <td>Colombia</td>\n",
       "      <td>2022-06-25</td>\n",
       "      <td>3.0</td>\n",
       "    </tr>\n",
       "    <tr>\n",
       "      <th>1</th>\n",
       "      <td>Colombia</td>\n",
       "      <td>2022-06-26</td>\n",
       "      <td>0.0</td>\n",
       "    </tr>\n",
       "    <tr>\n",
       "      <th>2</th>\n",
       "      <td>Colombia</td>\n",
       "      <td>2022-06-27</td>\n",
       "      <td>0.0</td>\n",
       "    </tr>\n",
       "    <tr>\n",
       "      <th>3</th>\n",
       "      <td>Colombia</td>\n",
       "      <td>2022-06-28</td>\n",
       "      <td>0.0</td>\n",
       "    </tr>\n",
       "    <tr>\n",
       "      <th>4</th>\n",
       "      <td>Colombia</td>\n",
       "      <td>2022-06-29</td>\n",
       "      <td>0.0</td>\n",
       "    </tr>\n",
       "    <tr>\n",
       "      <th>...</th>\n",
       "      <td>...</td>\n",
       "      <td>...</td>\n",
       "      <td>...</td>\n",
       "    </tr>\n",
       "    <tr>\n",
       "      <th>1294</th>\n",
       "      <td>World</td>\n",
       "      <td>2022-10-26</td>\n",
       "      <td>657.0</td>\n",
       "    </tr>\n",
       "    <tr>\n",
       "      <th>1295</th>\n",
       "      <td>World</td>\n",
       "      <td>2022-10-27</td>\n",
       "      <td>102.0</td>\n",
       "    </tr>\n",
       "    <tr>\n",
       "      <th>1296</th>\n",
       "      <td>World</td>\n",
       "      <td>2022-10-28</td>\n",
       "      <td>244.0</td>\n",
       "    </tr>\n",
       "    <tr>\n",
       "      <th>1297</th>\n",
       "      <td>World</td>\n",
       "      <td>2022-10-29</td>\n",
       "      <td>143.0</td>\n",
       "    </tr>\n",
       "    <tr>\n",
       "      <th>1298</th>\n",
       "      <td>World</td>\n",
       "      <td>2022-10-30</td>\n",
       "      <td>21.0</td>\n",
       "    </tr>\n",
       "  </tbody>\n",
       "</table>\n",
       "<p>1299 rows × 3 columns</p>\n",
       "</div>"
      ],
      "text/plain": [
       "      location        date  cases\n",
       "0     Colombia  2022-06-25    3.0\n",
       "1     Colombia  2022-06-26    0.0\n",
       "2     Colombia  2022-06-27    0.0\n",
       "3     Colombia  2022-06-28    0.0\n",
       "4     Colombia  2022-06-29    0.0\n",
       "...        ...         ...    ...\n",
       "1294     World  2022-10-26  657.0\n",
       "1295     World  2022-10-27  102.0\n",
       "1296     World  2022-10-28  244.0\n",
       "1297     World  2022-10-29  143.0\n",
       "1298     World  2022-10-30   21.0\n",
       "\n",
       "[1299 rows x 3 columns]"
      ]
     },
     "execution_count": 34,
     "metadata": {},
     "output_type": "execute_result"
    }
   ],
   "source": [
    "# Getting data\n",
    "raw_cases = pd.read_csv(\"../data/monkeypox-cases-counts.tsv\", sep=\"\\t\")\n",
    "raw_cases"
   ]
  },
  {
   "cell_type": "code",
   "execution_count": 35,
   "id": "d1477782",
   "metadata": {},
   "outputs": [],
   "source": [
    "# Make case_data dictionary\n",
    "case_data = dict()\n",
    "for name, group in raw_cases.groupby(\"location\"):\n",
    "    case_data[name] = ef.CaseCounts(raw_cases=group)"
   ]
  },
  {
   "cell_type": "code",
   "execution_count": 101,
   "id": "9ca1a23d",
   "metadata": {},
   "outputs": [],
   "source": [
    "# Defining model\n",
    "seed_L = 7\n",
    "forecast_L = 0\n",
    "\n",
    "# Get delays\n",
    "#TODO: Get better estimates of generation time from the literature\n",
    "gen = ef.discretise_gamma(mn=7.1, std=3.2)\n",
    "delays = ef.pad_delays([ef.discretise_lognorm(mn=4.1, std=1.0)])\n",
    "    \n",
    "basis_fn = ef.Spline(order=4, k=3)\n",
    "\n",
    "renewal_model = ef.SingleRenewalModel(gen, delays, seed_L, forecast_L,\n",
    "                       CLik = ef.ZINegBinomCases(0.01),\n",
    "                       basis_fn = basis_fn)"
   ]
  },
  {
   "cell_type": "code",
   "execution_count": 102,
   "id": "2a7e6608",
   "metadata": {},
   "outputs": [
    {
     "name": "stdout",
     "output_type": "stream",
     "text": [
      "Colombia\n"
     ]
    },
    {
     "name": "stderr",
     "output_type": "stream",
     "text": [
      "sample: 100%|████████████████████████████████████████████████████████████████████████████████| 400/400 [00:10<00:00, 37.42it/s, 1023 steps of size 4.16e-04. acc. prob=0.83]\n"
     ]
    },
    {
     "name": "stdout",
     "output_type": "stream",
     "text": [
      "France\n"
     ]
    },
    {
     "name": "stderr",
     "output_type": "stream",
     "text": [
      "sample: 100%|████████████████████████████████████████████████████████████████████████████████| 400/400 [00:12<00:00, 31.80it/s, 1023 steps of size 2.70e-04. acc. prob=0.91]\n"
     ]
    },
    {
     "name": "stdout",
     "output_type": "stream",
     "text": [
      "Germany\n"
     ]
    },
    {
     "name": "stderr",
     "output_type": "stream",
     "text": [
      "sample: 100%|████████████████████████████████████████████████████████████████████████████████| 400/400 [00:11<00:00, 34.86it/s, 1023 steps of size 7.11e-04. acc. prob=0.80]\n"
     ]
    },
    {
     "name": "stdout",
     "output_type": "stream",
     "text": [
      "Portugal\n"
     ]
    },
    {
     "name": "stderr",
     "output_type": "stream",
     "text": [
      "sample: 100%|████████████████████████████████████████████████████████████████████████████████| 400/400 [00:14<00:00, 28.33it/s, 1023 steps of size 9.07e-06. acc. prob=0.87]\n"
     ]
    },
    {
     "name": "stdout",
     "output_type": "stream",
     "text": [
      "Spain\n"
     ]
    },
    {
     "name": "stderr",
     "output_type": "stream",
     "text": [
      "sample: 100%|████████████████████████████████████████████████████████████████████████████████| 400/400 [00:12<00:00, 30.80it/s, 1023 steps of size 9.34e-04. acc. prob=0.77]\n"
     ]
    },
    {
     "name": "stdout",
     "output_type": "stream",
     "text": [
      "United Kingdom\n"
     ]
    },
    {
     "name": "stderr",
     "output_type": "stream",
     "text": [
      "sample: 100%|████████████████████████████████████████████████████████████████████████████████| 400/400 [00:13<00:00, 28.90it/s, 1023 steps of size 7.81e-04. acc. prob=0.73]\n"
     ]
    },
    {
     "name": "stdout",
     "output_type": "stream",
     "text": [
      "United States\n"
     ]
    },
    {
     "name": "stderr",
     "output_type": "stream",
     "text": [
      "sample: 100%|████████████████████████████████████████████████████████████████████████████████| 400/400 [00:11<00:00, 35.33it/s, 1023 steps of size 6.15e-04. acc. prob=0.80]\n"
     ]
    },
    {
     "name": "stdout",
     "output_type": "stream",
     "text": [
      "World\n"
     ]
    },
    {
     "name": "stderr",
     "output_type": "stream",
     "text": [
      "sample: 100%|████████████████████████████████████████████████████████████████████████████████| 400/400 [00:11<00:00, 35.23it/s, 1023 steps of size 1.95e-03. acc. prob=0.95]\n"
     ]
    }
   ],
   "source": [
    "# Fitting model\n",
    "multiposterior = ef.MultiPosterior()\n",
    "for name, data in case_data.items():\n",
    "    print(name)\n",
    "    init_strat, posterior_map = ef.init_to_MAP(renewal_model, data, iters=100_000)\n",
    "    inference_method = ef.InferNUTS(num_warmup=200, num_samples=200, init_strategy=init_strat)\n",
    "    posterior = inference_method.fit(renewal_model, data, name=name)\n",
    "    multiposterior.add_posterior(posterior)"
   ]
  },
  {
   "cell_type": "code",
   "execution_count": 103,
   "id": "d737f45c",
   "metadata": {},
   "outputs": [],
   "source": [
    "# Need to make export methods for R and incidence\n",
    "# Maybe some quick plots"
   ]
  },
  {
   "cell_type": "code",
   "execution_count": 138,
   "id": "5ee1e846",
   "metadata": {},
   "outputs": [],
   "source": [
    "import matplotlib\n",
    "import matplotlib.pyplot as plt\n",
    "import matplotlib.transforms as mtransforms\n",
    "\n",
    "font = {'family' : 'Helvetica',\n",
    "        'weight' : 'light',\n",
    "        'size'   : 16}\n",
    "\n",
    "matplotlib.rc('font', **font)"
   ]
  },
  {
   "cell_type": "code",
   "execution_count": 139,
   "id": "6f635f1e",
   "metadata": {},
   "outputs": [],
   "source": [
    "ps = [0.95, 0.8, 0.5]\n",
    "alphas = [0.2, 0.4, 0.6]\n",
    "\n",
    "v_colors = [\"#56e39f\", \"#89CFF0\", \"#C70039\",  \"#5567aa\", \"#c5d46f\", \"#aa34a4\", \"#808080\"]"
   ]
  },
  {
   "cell_type": "code",
   "execution_count": 148,
   "id": "4bac2818",
   "metadata": {},
   "outputs": [],
   "source": [
    "from evofr.plotting import *\n",
    "\n",
    "def simple_axis(ax):\n",
    "    ax.spines['top'].set_visible(False)\n",
    "    ax.spines['right'].set_visible(False)"
   ]
  },
  {
   "cell_type": "code",
   "execution_count": 141,
   "id": "be498ebc",
   "metadata": {},
   "outputs": [],
   "source": [
    "def plot_site(ax, site, samples, ps, alphas, color):\n",
    "    med, V = get_quantiles(samples, ps, site)\n",
    "    t = jnp.arange(0, V[-1].shape[-1], 1)\n",
    "\n",
    "    # Make figure\n",
    "    for i in range(len(ps)):\n",
    "        ax.fill_between(\n",
    "            t, V[i][0, :], V[i][1, :], color=color, alpha=alphas[i]\n",
    "        )\n",
    "    ax.plot(t, med, color=color)"
   ]
  },
  {
   "cell_type": "code",
   "execution_count": 142,
   "id": "0d8aa1cd",
   "metadata": {},
   "outputs": [],
   "source": [
    "def plot_posterior_Reff_r(posterior, color=\"grey\"):\n",
    "    fig = plt.figure(figsize=(14, 10))\n",
    "    gs = fig.add_gridspec(nrows=2, ncols=1)\n",
    "\n",
    "    # Plot Reff\n",
    "    ax = fig.add_subplot(gs[0,0])\n",
    "    plot_site(ax, \"R\", posterior.samples, ps, alphas, color)\n",
    "    ax.set_ylabel(\"Effective Reproduction number\") # Making ylabel\n",
    "\n",
    "    # Plot little R\n",
    "    ax = fig.add_subplot(gs[1,0], sharex=ax)\n",
    "    plot_site(ax, \"r\", posterior.samples, ps, alphas, color)\n",
    "    ax.set_ylabel(\"Epidemic growth rate (per day)\") # Making ylabel\n",
    "\n",
    "    # Add dates\n",
    "    add_dates_sep(ax, posterior.data.dates, sep=20) # Adding dates\n",
    "\n",
    "    fig.tight_layout()\n",
    "    fig.subplots_adjust(bottom = 0.1)\n",
    "    return None"
   ]
  },
  {
   "cell_type": "code",
   "execution_count": 143,
   "id": "a6482873",
   "metadata": {},
   "outputs": [],
   "source": [
    "def plot_posterior_Ismooth_cases(posterior, color=\"grey\"):\n",
    "    fig = plt.figure(figsize=(14, 7))\n",
    "    gs = fig.add_gridspec(nrows=1, ncols=1)\n",
    "\n",
    "    # Plot smoothed incidence\n",
    "    ax = fig.add_subplot(gs[0,0])\n",
    "    plot_site(ax, \"I_smooth\", posterior.samples, ps, alphas, color)\n",
    "\n",
    "    plot_cases(ax, posterior.data)\n",
    "    ax.set_ylabel(\"Cases\") # Making ylabel\n",
    "    add_dates_sep(ax, posterior.data.dates, sep=20) # Adding dates\n",
    "    return None"
   ]
  },
  {
   "cell_type": "code",
   "execution_count": 163,
   "id": "d949f344",
   "metadata": {},
   "outputs": [],
   "source": [
    "def plot_cute_posterior(posterior, main_color=\"#FF00FF\", title=\"\"):\n",
    "    fig = plt.figure(figsize=(14, 8))\n",
    "    gs = fig.add_gridspec(nrows=2, ncols=1, height_ratios=[0.7, 0.3])\n",
    "\n",
    "    # Plot smoothed incidence and cases\n",
    "    ax = fig.add_subplot(gs[0,0])\n",
    "    simple_axis(ax)\n",
    "    plot_site(ax, \"I_smooth\", posterior.samples, ps, alphas, main_color)\n",
    "    plot_cases(ax, posterior.data)\n",
    "    ax.set_ylabel(\"Cases\") # Making ylabel\n",
    "    add_dates_sep(ax, posterior.data.dates, sep=20) # Adding dates\n",
    "    ax.set_title(title)\n",
    "    \n",
    "    # Plot Reff\n",
    "    ax = fig.add_subplot(gs[1,0])\n",
    "    simple_axis(ax)\n",
    "    plot_site(ax, \"R\", posterior.samples, ps, alphas, main_color)\n",
    "    ax.set_ylabel(r\"$R_{t}$\") # Making ylabel\n",
    "    add_dates_sep(ax, posterior.data.dates, sep=14) # Adding dates\n",
    "    ax.axhline(y=1.0, color=\"k\", linestyle=\"--\")\n",
    "    return None"
   ]
  },
  {
   "cell_type": "code",
   "execution_count": 164,
   "id": "99b742ca",
   "metadata": {},
   "outputs": [
    {
     "data": {
      "image/png": "[encoded data removed]",
      "text/plain": [
       "<Figure size 1008x576 with 2 Axes>"
      ]
     },
     "metadata": {
      "needs_background": "light"
     },
     "output_type": "display_data"
    }
   ],
   "source": [
    "posterior = multiposterior[\"United States\"]\n",
    "plot_cute_posterior(posterior, main_color=\"#14888c\")"
   ]
  },
  {
   "cell_type": "code",
   "execution_count": 165,
   "id": "570eec79",
   "metadata": {},
   "outputs": [],
   "source": [
    "def get_site(\n",
    "    samples, data, ps, name, site, forecast=False\n",
    "):\n",
    "\n",
    "    dates = data.dates\n",
    "\n",
    "    # Unpack posterior\n",
    "    site_name = site + \"_forecast\" if forecast else site\n",
    "    site = samples[site_name]\n",
    "    T = site.shape[-1]\n",
    "\n",
    "    if forecast:\n",
    "        dates = forecast_dates(dates, T)\n",
    "\n",
    "    # Compute medians and hdis for ps\n",
    "    site_median = jnp.median(site, axis=0)\n",
    "\n",
    "    site_hdis = [\n",
    "        jnp.quantile(site, q=jnp.array([0.5 * (1 - p), 0.5 * (1 + p)]), axis=0)\n",
    "        for p in ps\n",
    "    ]\n",
    "\n",
    "    site_dict = dict()\n",
    "    site_dict[\"date\"] = list(dates)\n",
    "    site_dict[\"location\"] = [name] * T\n",
    "    site_dict[f\"median_{site_name}\"] = list(site_median)\n",
    "    for i, p in enumerate(ps):\n",
    "        site_dict[f\"{site_name}_upper_{round(ps[i] * 100)}\"] = list(site_hdis[i][1, :])\n",
    "        site_dict[f\"{site_name}_lower_{round(ps[i] * 100)}\"] = list(site_hdis[i][0, :])        \n",
    "    return site_dict"
   ]
  },
  {
   "cell_type": "code",
   "execution_count": 166,
   "id": "4f00913b",
   "metadata": {},
   "outputs": [],
   "source": [
    "def site_posteriors_to_dataframe(mp, site, ps):\n",
    "    dfs = []\n",
    "    for name, post in multiposterior.locator.items():\n",
    "        site_dict_name = get_site(post.samples, post.data, ps, name, site, forecast=False)\n",
    "        dfs.append(\n",
    "            pd.DataFrame(site_dict_name)\n",
    "        )\n",
    "    return pd.concat(dfs)"
   ]
  },
  {
   "cell_type": "code",
   "execution_count": 167,
   "id": "103d4dd7",
   "metadata": {},
   "outputs": [],
   "source": [
    "Rt_estimates = site_posteriors_to_dataframe(multiposterior, \"R\", [0.8])"
   ]
  },
  {
   "cell_type": "code",
   "execution_count": 168,
   "id": "1bd3634c",
   "metadata": {},
   "outputs": [],
   "source": [
    "incidence_estimates = site_posteriors_to_dataframe(multiposterior, \"I_smooth\", [0.8])"
   ]
  },
  {
   "cell_type": "code",
   "execution_count": 169,
   "id": "792ee249",
   "metadata": {},
   "outputs": [],
   "source": [
    "Rt_estimates.to_csv(\"case-rt-estimates.tsv\", index=False, sep=\"\\t\")\n",
    "incidence_estimates.to_csv(\"case-incidence-estimates.tsv\", index=False, sep=\"\\t\")"
   ]
  }
 ],
 "metadata": {
  "kernelspec": {
   "display_name": "Python 3 (ipykernel)",
   "language": "python",
   "name": "python3"
  },
  "language_info": {
   "codemirror_mode": {
    "name": "ipython",
    "version": 3
   },
   "file_extension": ".py",
   "mimetype": "text/x-python",
   "name": "python",
   "nbconvert_exporter": "python",
   "pygments_lexer": "ipython3",
   "version": "3.9.13"
  }
 },
 "nbformat": 4,
 "nbformat_minor": 5
}

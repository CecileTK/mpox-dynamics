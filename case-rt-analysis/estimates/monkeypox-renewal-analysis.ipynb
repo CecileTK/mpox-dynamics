{
 "cells": [
  {
   "cell_type": "code",
   "execution_count": 1,
   "id": "922d9525",
   "metadata": {},
   "outputs": [
    {
     "name": "stderr",
     "output_type": "stream",
     "text": [
      "/Users/mparedes/opt/miniconda3/lib/python3.9/site-packages/tqdm/auto.py:22: TqdmWarning: IProgress not found. Please update jupyter and ipywidgets. See https://ipywidgets.readthedocs.io/en/stable/user_install.html\n",
      "  from .autonotebook import tqdm as notebook_tqdm\n"
     ]
    }
   ],
   "source": [
    "import pandas as pd\n",
    "import jax.numpy as jnp\n",
    "import evofr as ef\n",
    "import numpy as np"
   ]
  },
  {
   "cell_type": "code",
   "execution_count": 2,
   "id": "ed4c6dd6",
   "metadata": {},
   "outputs": [
    {
     "data": {
      "text/plain": [
       "World             270\n",
       "United Kingdom    265\n",
       "Portugal          255\n",
       "Spain             254\n",
       "Belgium           253\n",
       "France            253\n",
       "Italy             253\n",
       "Germany           252\n",
       "Switzerland       251\n",
       "Austria           249\n",
       "Slovenia          248\n",
       "Canada            238\n",
       "United States     238\n",
       "Colombia          216\n",
       "Peru              213\n",
       "Slovakia          204\n",
       "Name: location, dtype: int64"
      ]
     },
     "execution_count": 2,
     "metadata": {},
     "output_type": "execute_result"
    }
   ],
   "source": [
    "# Getting data\n",
    "raw_cases = pd.read_csv(\"../data/monkeypox-cases-counts.tsv\", sep=\"\\t\")\n",
    "raw_cases.location.value_counts()"
   ]
  },
  {
   "cell_type": "code",
   "execution_count": 3,
   "id": "e8826188",
   "metadata": {},
   "outputs": [],
   "source": [
    "region = {'Canada':'North America',\n",
    "          'United States':'North America',\n",
    "         'Finland':'Northern Europe',\n",
    "           'Austria': 'Western Europe',\n",
    "        'Germany':'Western Europe', \n",
    "        'Switzerland':'Western Europe',\n",
    "         'United Kingdom':'Western Europe',\n",
    "        'France':'Western Europe',\n",
    "        'Belgium':'Western Europe',\n",
    "        'Netherlands':'Western Europe',\n",
    "        'Slovakia':'Central Europe',\n",
    "        'Slovenia':'Central Europe',\n",
    "        'Italy':'Southern Europe',\n",
    "        'Portugal':'Southern Europe',\n",
    "        'Spain':'Southern Europe',\n",
    "         'Colombia':'South America',\n",
    "          \n",
    "        'Peru':'South America'}"
   ]
  },
  {
   "cell_type": "code",
   "execution_count": 4,
   "id": "4ac9510c",
   "metadata": {},
   "outputs": [],
   "source": [
    "raw_cases[\"region\"] = np.nan\n",
    "raw_cases.region = raw_cases.location.map(region)\n",
    "raw_cases = raw_cases.dropna()\n"
   ]
  },
  {
   "cell_type": "code",
   "execution_count": 5,
   "id": "d1978d39",
   "metadata": {},
   "outputs": [
    {
     "data": {
      "text/html": [
       "<div>\n",
       "<style scoped>\n",
       "    .dataframe tbody tr th:only-of-type {\n",
       "        vertical-align: middle;\n",
       "    }\n",
       "\n",
       "    .dataframe tbody tr th {\n",
       "        vertical-align: top;\n",
       "    }\n",
       "\n",
       "    .dataframe thead th {\n",
       "        text-align: right;\n",
       "    }\n",
       "</style>\n",
       "<table border=\"1\" class=\"dataframe\">\n",
       "  <thead>\n",
       "    <tr style=\"text-align: right;\">\n",
       "      <th></th>\n",
       "      <th>location</th>\n",
       "      <th>date</th>\n",
       "      <th>cases</th>\n",
       "      <th>region</th>\n",
       "    </tr>\n",
       "  </thead>\n",
       "  <tbody>\n",
       "    <tr>\n",
       "      <th>0</th>\n",
       "      <td>Austria</td>\n",
       "      <td>2022-05-23</td>\n",
       "      <td>1.0</td>\n",
       "      <td>Western Europe</td>\n",
       "    </tr>\n",
       "    <tr>\n",
       "      <th>1</th>\n",
       "      <td>Austria</td>\n",
       "      <td>2022-05-24</td>\n",
       "      <td>0.0</td>\n",
       "      <td>Western Europe</td>\n",
       "    </tr>\n",
       "    <tr>\n",
       "      <th>2</th>\n",
       "      <td>Austria</td>\n",
       "      <td>2022-05-25</td>\n",
       "      <td>0.0</td>\n",
       "      <td>Western Europe</td>\n",
       "    </tr>\n",
       "    <tr>\n",
       "      <th>3</th>\n",
       "      <td>Austria</td>\n",
       "      <td>2022-05-26</td>\n",
       "      <td>0.0</td>\n",
       "      <td>Western Europe</td>\n",
       "    </tr>\n",
       "    <tr>\n",
       "      <th>4</th>\n",
       "      <td>Austria</td>\n",
       "      <td>2022-05-27</td>\n",
       "      <td>0.0</td>\n",
       "      <td>Western Europe</td>\n",
       "    </tr>\n",
       "    <tr>\n",
       "      <th>...</th>\n",
       "      <td>...</td>\n",
       "      <td>...</td>\n",
       "      <td>...</td>\n",
       "      <td>...</td>\n",
       "    </tr>\n",
       "    <tr>\n",
       "      <th>3637</th>\n",
       "      <td>United States</td>\n",
       "      <td>2023-01-22</td>\n",
       "      <td>0.0</td>\n",
       "      <td>North America</td>\n",
       "    </tr>\n",
       "    <tr>\n",
       "      <th>3638</th>\n",
       "      <td>United States</td>\n",
       "      <td>2023-01-23</td>\n",
       "      <td>0.0</td>\n",
       "      <td>North America</td>\n",
       "    </tr>\n",
       "    <tr>\n",
       "      <th>3639</th>\n",
       "      <td>United States</td>\n",
       "      <td>2023-01-24</td>\n",
       "      <td>6.0</td>\n",
       "      <td>North America</td>\n",
       "    </tr>\n",
       "    <tr>\n",
       "      <th>3640</th>\n",
       "      <td>United States</td>\n",
       "      <td>2023-01-25</td>\n",
       "      <td>5.0</td>\n",
       "      <td>North America</td>\n",
       "    </tr>\n",
       "    <tr>\n",
       "      <th>3641</th>\n",
       "      <td>United States</td>\n",
       "      <td>2023-01-26</td>\n",
       "      <td>27.0</td>\n",
       "      <td>North America</td>\n",
       "    </tr>\n",
       "  </tbody>\n",
       "</table>\n",
       "<p>3642 rows × 4 columns</p>\n",
       "</div>"
      ],
      "text/plain": [
       "           location        date  cases          region\n",
       "0           Austria  2022-05-23    1.0  Western Europe\n",
       "1           Austria  2022-05-24    0.0  Western Europe\n",
       "2           Austria  2022-05-25    0.0  Western Europe\n",
       "3           Austria  2022-05-26    0.0  Western Europe\n",
       "4           Austria  2022-05-27    0.0  Western Europe\n",
       "...             ...         ...    ...             ...\n",
       "3637  United States  2023-01-22    0.0   North America\n",
       "3638  United States  2023-01-23    0.0   North America\n",
       "3639  United States  2023-01-24    6.0   North America\n",
       "3640  United States  2023-01-25    5.0   North America\n",
       "3641  United States  2023-01-26   27.0   North America\n",
       "\n",
       "[3642 rows x 4 columns]"
      ]
     },
     "execution_count": 5,
     "metadata": {},
     "output_type": "execute_result"
    }
   ],
   "source": [
    "raw_cases = raw_cases.dropna()\n",
    "raw_cases"
   ]
  },
  {
   "cell_type": "code",
   "execution_count": 6,
   "id": "66dc3277",
   "metadata": {},
   "outputs": [],
   "source": [
    "locations_to_run = raw_cases[\"region\"].unique()\n",
    "#locations_to_run = [\"World\", \"United States\"] # Comment out this line to run all locations"
   ]
  },
  {
   "cell_type": "code",
   "execution_count": 7,
   "id": "d1477782",
   "metadata": {},
   "outputs": [],
   "source": [
    "# Make case_data dictionary\n",
    "case_data = dict()\n",
    "for name in locations_to_run:\n",
    "    case_data[name] = ef.CaseCounts(raw_cases=raw_cases[raw_cases.region == name].copy())"
   ]
  },
  {
   "cell_type": "code",
   "execution_count": 8,
   "id": "9ca1a23d",
   "metadata": {},
   "outputs": [],
   "source": [
    "# Defining model\n",
    "seed_L = 40\n",
    "forecast_L = 0\n",
    "\n",
    "# Get delays\n",
    "gen = ef.discretise_gamma(mn=12.6, std=5.66)\n",
    "delays = ef.pad_delays([ef.discretise_lognorm(mn=4.1, std=1.0)])\n",
    "inf_period = ef.discretise_gamma(mn=4.5, std=3.2)\n",
    "basis_fn = ef.Spline(order=4, k=3)\n",
    "\n",
    "renewal_model = ef.SingleRenewalModel(gen, delays, seed_L, forecast_L,\n",
    "                       inf_period = inf_period,\n",
    "                       CLik = ef.ZINegBinomCases(0.01),\n",
    "                       basis_fn = basis_fn)"
   ]
  },
  {
   "cell_type": "code",
   "execution_count": 9,
   "id": "2a7e6608",
   "metadata": {},
   "outputs": [
    {
     "name": "stdout",
     "output_type": "stream",
     "text": [
      "Western Europe\n"
     ]
    },
    {
     "name": "stderr",
     "output_type": "stream",
     "text": [
      "sample: 100%|█| 400/400 [00:46<00:00,  8.62it/s, 1023 steps of size 7.44e-04. ac\n"
     ]
    },
    {
     "name": "stdout",
     "output_type": "stream",
     "text": [
      "North America\n"
     ]
    },
    {
     "name": "stderr",
     "output_type": "stream",
     "text": [
      "sample: 100%|█| 400/400 [00:43<00:00,  9.20it/s, 1023 steps of size 5.66e-04. ac\n"
     ]
    },
    {
     "name": "stdout",
     "output_type": "stream",
     "text": [
      "South America\n"
     ]
    },
    {
     "name": "stderr",
     "output_type": "stream",
     "text": [
      "sample: 100%|█| 400/400 [00:45<00:00,  8.76it/s, 1023 steps of size 3.31e-04. ac\n"
     ]
    },
    {
     "name": "stdout",
     "output_type": "stream",
     "text": [
      "Southern Europe\n"
     ]
    },
    {
     "name": "stderr",
     "output_type": "stream",
     "text": [
      "sample: 100%|█| 400/400 [00:44<00:00,  9.01it/s, 1023 steps of size 6.99e-04. ac\n"
     ]
    },
    {
     "name": "stdout",
     "output_type": "stream",
     "text": [
      "Central Europe\n"
     ]
    },
    {
     "name": "stderr",
     "output_type": "stream",
     "text": [
      "sample: 100%|█| 400/400 [00:44<00:00,  8.99it/s, 1023 steps of size 1.07e-08. ac\n"
     ]
    }
   ],
   "source": [
    "# Fitting model\n",
    "multiposterior = ef.MultiPosterior()\n",
    "for name, data in case_data.items():\n",
    "    print(name)\n",
    "    init_strat, posterior_map = ef.init_to_MAP(renewal_model, data, iters=100_000)\n",
    "    inference_method = ef.InferNUTS(num_warmup=200, num_samples=200, init_strategy=init_strat)\n",
    "    posterior = inference_method.fit(renewal_model, data, name=name)\n",
    "    multiposterior.add_posterior(posterior)"
   ]
  },
  {
   "cell_type": "code",
   "execution_count": 10,
   "id": "5ee1e846",
   "metadata": {},
   "outputs": [],
   "source": [
    "import matplotlib\n",
    "import matplotlib.pyplot as plt\n",
    "import matplotlib.transforms as mtransforms\n",
    "\n",
    "font = {'family' : 'Helvetica',\n",
    "        'weight' : 'light',\n",
    "        'size'   : 16}\n",
    "\n",
    "matplotlib.rc('font', **font)"
   ]
  },
  {
   "cell_type": "code",
   "execution_count": 11,
   "id": "6f635f1e",
   "metadata": {},
   "outputs": [],
   "source": [
    "ps = [0.95, 0.8, 0.5]\n",
    "alphas = [0.2, 0.4, 0.6]\n",
    "\n",
    "v_colors = [\"#56e39f\", \"#89CFF0\", \"#C70039\",  \"#5567aa\", \"#c5d46f\", \"#aa34a4\", \"#808080\"]"
   ]
  },
  {
   "cell_type": "code",
   "execution_count": 12,
   "id": "4bac2818",
   "metadata": {},
   "outputs": [],
   "source": [
    "from evofr.plotting import *\n",
    "\n",
    "def simple_axis(ax):\n",
    "    ax.spines['top'].set_visible(False)\n",
    "    ax.spines['right'].set_visible(False)"
   ]
  },
  {
   "cell_type": "code",
   "execution_count": 13,
   "id": "be498ebc",
   "metadata": {},
   "outputs": [],
   "source": [
    "def plot_site(ax, site, samples, ps, alphas, color):\n",
    "    med, V = get_quantiles(samples, ps, site)\n",
    "    t = jnp.arange(0, V[-1].shape[-1], 1)\n",
    "\n",
    "    # Make figure\n",
    "    for i in range(len(ps)):\n",
    "        ax.fill_between(\n",
    "            t, V[i][0, :], V[i][1, :], color=color, alpha=alphas[i]\n",
    "        )\n",
    "    ax.plot(t, med, color=color)"
   ]
  },
  {
   "cell_type": "code",
   "execution_count": 14,
   "id": "0d8aa1cd",
   "metadata": {},
   "outputs": [],
   "source": [
    "def plot_posterior_Reff_r(posterior, color=\"grey\"):\n",
    "    fig = plt.figure(figsize=(14, 10))\n",
    "    gs = fig.add_gridspec(nrows=2, ncols=1)\n",
    "\n",
    "    # Plot Reff\n",
    "    ax = fig.add_subplot(gs[0,0])\n",
    "    plot_site(ax, \"R\", posterior.samples, ps, alphas, color)\n",
    "    ax.set_ylabel(\"Effective Reproduction number\") # Making ylabel\n",
    "\n",
    "    # Plot little R\n",
    "    ax = fig.add_subplot(gs[1,0], sharex=ax)\n",
    "    plot_site(ax, \"r\", posterior.samples, ps, alphas, color)\n",
    "    ax.set_ylabel(\"Epidemic growth rate (per day)\") # Making ylabel\n",
    "\n",
    "    # Add dates\n",
    "    add_dates_sep(ax, posterior.data.dates, sep=20) # Adding dates\n",
    "\n",
    "    fig.tight_layout()\n",
    "    fig.subplots_adjust(bottom = 0.1)\n",
    "    return None"
   ]
  },
  {
   "cell_type": "code",
   "execution_count": 15,
   "id": "a6482873",
   "metadata": {},
   "outputs": [],
   "source": [
    "def plot_posterior_Ismooth_cases(posterior, color=\"grey\"):\n",
    "    fig = plt.figure(figsize=(14, 7))\n",
    "    gs = fig.add_gridspec(nrows=1, ncols=1)\n",
    "\n",
    "    # Plot smoothed incidence\n",
    "    ax = fig.add_subplot(gs[0,0])\n",
    "    plot_site(ax, \"I_smooth\", posterior.samples, ps, alphas, color)\n",
    "\n",
    "    plot_cases(ax, posterior.data)\n",
    "    ax.set_ylabel(\"Cases\") # Making ylabel\n",
    "    add_dates_sep(ax, posterior.data.dates, sep=20) # Adding dates\n",
    "    return None"
   ]
  },
  {
   "cell_type": "code",
   "execution_count": 16,
   "id": "d949f344",
   "metadata": {},
   "outputs": [],
   "source": [
    "def plot_cute_posterior(posterior, main_color=\"#FF00FF\", title=\"\"):\n",
    "    fig = plt.figure(figsize=(14, 8))\n",
    "    gs = fig.add_gridspec(nrows=2, ncols=1, height_ratios=[0.7, 0.3])\n",
    "\n",
    "    # Plot smoothed incidence and cases\n",
    "    ax = fig.add_subplot(gs[0,0])\n",
    "    simple_axis(ax)\n",
    "    plot_site(ax, \"I_smooth\", posterior.samples, ps, alphas, main_color)\n",
    "    plot_cases(ax, posterior.data)\n",
    "    ax.set_ylabel(\"Cases\") # Making ylabel\n",
    "    add_dates_sep(ax, posterior.data.dates, sep=20) # Adding dates\n",
    "    ax.set_title(title)\n",
    "    \n",
    "    # Plot Reff\n",
    "    ax = fig.add_subplot(gs[1,0])\n",
    "    simple_axis(ax)\n",
    "    plot_site(ax, \"R\", posterior.samples, ps, alphas, main_color)\n",
    "    ax.set_ylabel(r\"$R_{t}$\") # Making ylabel\n",
    "    add_dates_sep(ax, posterior.data.dates, sep=14) # Adding dates\n",
    "    ax.axhline(y=1.0, color=\"k\", linestyle=\"--\")\n",
    "    return None"
   ]
  },
  {
   "cell_type": "code",
   "execution_count": 17,
   "id": "99b742ca",
   "metadata": {},
   "outputs": [
    {
     "data": {
      "image/png": "[encoded data removed]",
      "text/plain": [
       "<Figure size 1008x576 with 2 Axes>"
      ]
     },
     "metadata": {
      "needs_background": "light"
     },
     "output_type": "display_data"
    }
   ],
   "source": [
    "posterior = multiposterior[\"Western Europe\"]\n",
    "plot_cute_posterior(posterior, main_color=\"#14888c\", title=\"North America\")"
   ]
  },
  {
   "cell_type": "code",
   "execution_count": 18,
   "id": "570eec79",
   "metadata": {},
   "outputs": [],
   "source": [
    "def get_site(\n",
    "    samples, data, ps, name, site, forecast=False\n",
    "):\n",
    "\n",
    "    dates = data.dates\n",
    "\n",
    "    # Unpack posterior\n",
    "    site_name = site + \"_forecast\" if forecast else site\n",
    "    site = samples[site_name]\n",
    "    T = len(dates)\n",
    "\n",
    "    if forecast:\n",
    "        dates = forecast_dates(dates, T)\n",
    "\n",
    "    # Compute medians and hdis for ps\n",
    "    site_median = jnp.median(site, axis=0)\n",
    "\n",
    "    site_hdis = [\n",
    "        jnp.quantile(site, q=jnp.array([0.5 * (1 - p), 0.5 * (1 + p)]), axis=0)\n",
    "        for p in ps\n",
    "    ]\n",
    "\n",
    "    site_dict = dict()\n",
    "    site_dict[\"date\"] = list(dates)\n",
    "    site_dict[\"region\"] = [name] * T\n",
    "    site_dict[f\"median_{site_name}\"] = list(site_median)[-T:]\n",
    "    for i, p in enumerate(ps):\n",
    "        site_dict[f\"{site_name}_upper_{round(ps[i] * 100)}\"] = list(site_hdis[i][1, -T:])\n",
    "        site_dict[f\"{site_name}_lower_{round(ps[i] * 100)}\"] = list(site_hdis[i][0, -T:])        \n",
    "    return site_dict"
   ]
  },
  {
   "cell_type": "code",
   "execution_count": 19,
   "id": "4f00913b",
   "metadata": {},
   "outputs": [],
   "source": [
    "def site_posteriors_to_dataframe(mp, site, ps):\n",
    "    dfs = []\n",
    "    for name, post in multiposterior.locator.items():\n",
    "        site_dict_name = get_site(post.samples, post.data, ps, name, site, forecast=False)\n",
    "        print(name)\n",
    "        dfs.append(\n",
    "            pd.DataFrame(site_dict_name)\n",
    "        )\n",
    "    return pd.concat(dfs)"
   ]
  },
  {
   "cell_type": "code",
   "execution_count": 20,
   "id": "103d4dd7",
   "metadata": {},
   "outputs": [
    {
     "name": "stdout",
     "output_type": "stream",
     "text": [
      "Western Europe\n",
      "North America\n",
      "South America\n",
      "Southern Europe\n",
      "Central Europe\n"
     ]
    }
   ],
   "source": [
    "Rt_estimates = site_posteriors_to_dataframe(multiposterior, \"R\", [0.95])"
   ]
  },
  {
   "cell_type": "code",
   "execution_count": 21,
   "id": "1bd3634c",
   "metadata": {},
   "outputs": [
    {
     "name": "stdout",
     "output_type": "stream",
     "text": [
      "Western Europe\n",
      "North America\n",
      "South America\n",
      "Southern Europe\n",
      "Central Europe\n"
     ]
    }
   ],
   "source": [
    "incidence_estimates = site_posteriors_to_dataframe(multiposterior, \"I_smooth\", [0.95])"
   ]
  },
  {
   "cell_type": "code",
   "execution_count": 22,
   "id": "3e0fffc9",
   "metadata": {},
   "outputs": [
    {
     "name": "stdout",
     "output_type": "stream",
     "text": [
      "Western Europe\n",
      "North America\n",
      "South America\n",
      "Southern Europe\n",
      "Central Europe\n"
     ]
    }
   ],
   "source": [
    "prev_estimates = site_posteriors_to_dataframe(multiposterior, \"prev\", [0.95])"
   ]
  },
  {
   "cell_type": "code",
   "execution_count": 23,
   "id": "792ee249",
   "metadata": {},
   "outputs": [],
   "source": [
    "Rt_estimates.to_csv(\"case-rt-estimates_region.tsv\", index=False, sep=\"\\t\")\n",
    "incidence_estimates.to_csv(\"case-incidence-estimates_region.tsv\", index=False, sep=\"\\t\")\n",
    "prev_estimates.to_csv(\"case-prevalence-estimates_region.tsv\", index=False, sep=\"\\t\")"
   ]
  },
  {
   "cell_type": "code",
   "execution_count": null,
   "id": "5eb2e85e",
   "metadata": {},
   "outputs": [],
   "source": []
  }
 ],
 "metadata": {
  "kernelspec": {
   "display_name": "Python 3 (ipykernel)",
   "language": "python",
   "name": "python3"
  },
  "language_info": {
   "codemirror_mode": {
    "name": "ipython",
    "version": 3
   },
   "file_extension": ".py",
   "mimetype": "text/x-python",
   "name": "python",
   "nbconvert_exporter": "python",
   "pygments_lexer": "ipython3",
   "version": "3.9.16"
  }
 },
 "nbformat": 4,
 "nbformat_minor": 5
}

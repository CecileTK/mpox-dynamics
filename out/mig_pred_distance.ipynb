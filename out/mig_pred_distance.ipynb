{
 "cells": [
  {
   "cell_type": "code",
   "execution_count": 77,
   "id": "11448a3a",
   "metadata": {},
   "outputs": [],
   "source": [
    "import pandas as pd \n",
    "import geopandas as gpd\n",
    "import numpy as np\n",
    "from math import radians, cos, sin, asin, sqrt\n",
    "from sklearn.neighbors import DistanceMetric\n"
   ]
  },
  {
   "cell_type": "code",
   "execution_count": 46,
   "id": "5388781a",
   "metadata": {},
   "outputs": [
    {
     "name": "stderr",
     "output_type": "stream",
     "text": [
      "/var/folders/h9/0347drb57tsgxzbddmvmlvf80000gp/T/ipykernel_3496/2705613767.py:5: UserWarning: Geometry is in a geographic CRS. Results from 'centroid' are likely incorrect. Use 'GeoSeries.to_crs()' to re-project geometries to a projected CRS before this operation.\n",
      "\n",
      "  centroids = world.centroid\n"
     ]
    }
   ],
   "source": [
    "# Access built-in Natural Earth data via GeoPandas\n",
    "world = gpd.read_file(gpd.datasets.get_path('naturalearth_lowres'))\n",
    "\n",
    "# Get a list (dataframe) of country centroids\n",
    "centroids = world.centroid\n",
    "centroid_list = pd.concat([world.name, centroids], axis=1)\n"
   ]
  },
  {
   "cell_type": "code",
   "execution_count": 48,
   "id": "f8a4469c",
   "metadata": {},
   "outputs": [],
   "source": [
    "#list of countries included in glm analysis based on having >5 sequences \n",
    "countries = [\"Austria\",\n",
    "\"Belgium\",\n",
    "\"Canada\",\n",
    "\"Colombia\",\n",
    "\"France\",\n",
    "\"Germany\",\n",
    "\"Italy\",\n",
    "\"Peru\",\n",
    "\"Portugal\",\n",
    "\"Slovakia\",\n",
    "\"Slovenia\",\n",
    "\"Spain\",\n",
    "\"Switzerland\",\n",
    "\"United States of America\",\n",
    "\"United Kingdom\",\n",
    "]\n",
    "\n",
    "regions = [\"NorthAmerica\", \"WesternEurope\", \"CentralEurope\", \"SouthernEurope\", \"SouthAmerica\"]\n",
    "\n",
    "north_america = ['Canada','United States of America']\n",
    "western_europe = ['Austria','Germany','Switzerland','United Kingdom','France','Belgium']\n",
    "central_europe = ['Slovakia','Slovenia']\n",
    "southern_europe = ['Italy','Portugal','Spain']\n",
    "south_american = ['Colombia','Peru']"
   ]
  },
  {
   "cell_type": "code",
   "execution_count": 64,
   "id": "aa19652a",
   "metadata": {},
   "outputs": [
    {
     "name": "stderr",
     "output_type": "stream",
     "text": [
      "/var/folders/h9/0347drb57tsgxzbddmvmlvf80000gp/T/ipykernel_3496/2537626974.py:3: SettingWithCopyWarning: \n",
      "A value is trying to be set on a copy of a slice from a DataFrame.\n",
      "Try using .loc[row_indexer,col_indexer] = value instead\n",
      "\n",
      "See the caveats in the documentation: https://pandas.pydata.org/pandas-docs/stable/user_guide/indexing.html#returning-a-view-versus-a-copy\n",
      "  glm_countries[\"centroids\"] = glm_countries[0].astype(\"str\")\n",
      "/var/folders/h9/0347drb57tsgxzbddmvmlvf80000gp/T/ipykernel_3496/2537626974.py:4: SettingWithCopyWarning: \n",
      "A value is trying to be set on a copy of a slice from a DataFrame.\n",
      "Try using .loc[row_indexer,col_indexer] = value instead\n",
      "\n",
      "See the caveats in the documentation: https://pandas.pydata.org/pandas-docs/stable/user_guide/indexing.html#returning-a-view-versus-a-copy\n",
      "  glm_countries[[\"lat\", \"long\"]] = glm_countries[\"centroids\"].str.split(\"\\\\(([^\\\\)]*)\\\\)\",expand=True)[1].str.split(\" \",expand=True )\n",
      "/var/folders/h9/0347drb57tsgxzbddmvmlvf80000gp/T/ipykernel_3496/2537626974.py:4: SettingWithCopyWarning: \n",
      "A value is trying to be set on a copy of a slice from a DataFrame.\n",
      "Try using .loc[row_indexer,col_indexer] = value instead\n",
      "\n",
      "See the caveats in the documentation: https://pandas.pydata.org/pandas-docs/stable/user_guide/indexing.html#returning-a-view-versus-a-copy\n",
      "  glm_countries[[\"lat\", \"long\"]] = glm_countries[\"centroids\"].str.split(\"\\\\(([^\\\\)]*)\\\\)\",expand=True)[1].str.split(\" \",expand=True )\n"
     ]
    },
    {
     "data": {
      "text/html": [
       "<div>\n",
       "<style scoped>\n",
       "    .dataframe tbody tr th:only-of-type {\n",
       "        vertical-align: middle;\n",
       "    }\n",
       "\n",
       "    .dataframe tbody tr th {\n",
       "        vertical-align: top;\n",
       "    }\n",
       "\n",
       "    .dataframe thead th {\n",
       "        text-align: right;\n",
       "    }\n",
       "</style>\n",
       "<table border=\"1\" class=\"dataframe\">\n",
       "  <thead>\n",
       "    <tr style=\"text-align: right;\">\n",
       "      <th></th>\n",
       "      <th>name</th>\n",
       "      <th>lat</th>\n",
       "      <th>long</th>\n",
       "    </tr>\n",
       "  </thead>\n",
       "  <tbody>\n",
       "    <tr>\n",
       "      <th>0</th>\n",
       "      <td>Canada</td>\n",
       "      <td>-98.14238137209708</td>\n",
       "      <td>61.46907614534896</td>\n",
       "    </tr>\n",
       "    <tr>\n",
       "      <th>1</th>\n",
       "      <td>United States of America</td>\n",
       "      <td>-112.5994359115045</td>\n",
       "      <td>45.70562800215178</td>\n",
       "    </tr>\n",
       "    <tr>\n",
       "      <th>2</th>\n",
       "      <td>Peru</td>\n",
       "      <td>-74.39180581684722</td>\n",
       "      <td>-9.191562905134553</td>\n",
       "    </tr>\n",
       "    <tr>\n",
       "      <th>3</th>\n",
       "      <td>Colombia</td>\n",
       "      <td>-73.07773208697478</td>\n",
       "      <td>3.927213862709704</td>\n",
       "    </tr>\n",
       "    <tr>\n",
       "      <th>4</th>\n",
       "      <td>France</td>\n",
       "      <td>-2.8766966992706267</td>\n",
       "      <td>42.46070432663372</td>\n",
       "    </tr>\n",
       "    <tr>\n",
       "      <th>5</th>\n",
       "      <td>Austria</td>\n",
       "      <td>14.076158884337072</td>\n",
       "      <td>47.6139487927463</td>\n",
       "    </tr>\n",
       "    <tr>\n",
       "      <th>6</th>\n",
       "      <td>Germany</td>\n",
       "      <td>10.288485092742851</td>\n",
       "      <td>51.13372269040778</td>\n",
       "    </tr>\n",
       "    <tr>\n",
       "      <th>7</th>\n",
       "      <td>Switzerland</td>\n",
       "      <td>8.118300613385486</td>\n",
       "      <td>46.79173768366762</td>\n",
       "    </tr>\n",
       "    <tr>\n",
       "      <th>8</th>\n",
       "      <td>Belgium</td>\n",
       "      <td>4.580834113854935</td>\n",
       "      <td>50.65244095902296</td>\n",
       "    </tr>\n",
       "    <tr>\n",
       "      <th>9</th>\n",
       "      <td>Portugal</td>\n",
       "      <td>-8.055765588295687</td>\n",
       "      <td>39.63404977497817</td>\n",
       "    </tr>\n",
       "    <tr>\n",
       "      <th>10</th>\n",
       "      <td>Spain</td>\n",
       "      <td>-3.6170206023873743</td>\n",
       "      <td>40.348656106226734</td>\n",
       "    </tr>\n",
       "    <tr>\n",
       "      <th>11</th>\n",
       "      <td>Italy</td>\n",
       "      <td>12.140788372235871</td>\n",
       "      <td>42.751183052964265</td>\n",
       "    </tr>\n",
       "    <tr>\n",
       "      <th>12</th>\n",
       "      <td>United Kingdom</td>\n",
       "      <td>-2.8531353951805545</td>\n",
       "      <td>53.91477348053706</td>\n",
       "    </tr>\n",
       "    <tr>\n",
       "      <th>13</th>\n",
       "      <td>Slovenia</td>\n",
       "      <td>14.938152320795732</td>\n",
       "      <td>46.12542205901039</td>\n",
       "    </tr>\n",
       "    <tr>\n",
       "      <th>14</th>\n",
       "      <td>Slovakia</td>\n",
       "      <td>19.507657147433708</td>\n",
       "      <td>48.7267113517275</td>\n",
       "    </tr>\n",
       "  </tbody>\n",
       "</table>\n",
       "</div>"
      ],
      "text/plain": [
       "                        name                  lat                long\n",
       "0                     Canada   -98.14238137209708   61.46907614534896\n",
       "1   United States of America   -112.5994359115045   45.70562800215178\n",
       "2                       Peru   -74.39180581684722  -9.191562905134553\n",
       "3                   Colombia   -73.07773208697478   3.927213862709704\n",
       "4                     France  -2.8766966992706267   42.46070432663372\n",
       "5                    Austria   14.076158884337072    47.6139487927463\n",
       "6                    Germany   10.288485092742851   51.13372269040778\n",
       "7                Switzerland    8.118300613385486   46.79173768366762\n",
       "8                    Belgium    4.580834113854935   50.65244095902296\n",
       "9                   Portugal   -8.055765588295687   39.63404977497817\n",
       "10                     Spain  -3.6170206023873743  40.348656106226734\n",
       "11                     Italy   12.140788372235871  42.751183052964265\n",
       "12            United Kingdom  -2.8531353951805545   53.91477348053706\n",
       "13                  Slovenia   14.938152320795732   46.12542205901039\n",
       "14                  Slovakia   19.507657147433708    48.7267113517275"
      ]
     },
     "execution_count": 64,
     "metadata": {},
     "output_type": "execute_result"
    }
   ],
   "source": [
    "#separate out lat and long for mid point estimation \n",
    "glm_countries = centroid_list[centroid_list.name.isin(countries)]\n",
    "glm_countries[\"centroids\"] = glm_countries[0].astype(\"str\")\n",
    "glm_countries[[\"lat\", \"long\"]] = glm_countries[\"centroids\"].str.split(\"\\\\(([^\\\\)]*)\\\\)\",expand=True)[1].str.split(\" \",expand=True )\n",
    "glm_countries = glm_countries[[\"name\", \"lat\", \"long\"]].reset_index(drop = True)\n",
    "glm_countries"
   ]
  },
  {
   "cell_type": "code",
   "execution_count": 65,
   "id": "f386cc48",
   "metadata": {},
   "outputs": [
    {
     "name": "stderr",
     "output_type": "stream",
     "text": [
      "/var/folders/h9/0347drb57tsgxzbddmvmlvf80000gp/T/ipykernel_3496/3905110729.py:3: SettingWithCopyWarning: \n",
      "A value is trying to be set on a copy of a slice from a DataFrame\n",
      "\n",
      "See the caveats in the documentation: https://pandas.pydata.org/pandas-docs/stable/user_guide/indexing.html#returning-a-view-versus-a-copy\n",
      "  glm_countries[\"region_coarse\"][glm_countries.name.isin(north_america)] = \"NorthAmerica\"\n"
     ]
    }
   ],
   "source": [
    "#assign region. Im sure there's a better, more pythonic way of doing this rather than repeating it.... maybe dictionaires?\n",
    "glm_countries[\"region_coarse\"] = np.nan\n",
    "glm_countries[\"region_coarse\"][glm_countries.name.isin(north_america)] = \"NorthAmerica\"\n",
    "glm_countries['region_coarse'][glm_countries.name.isin(western_europe)] = \"WesternEurope\"\n",
    "glm_countries['region_coarse'][glm_countries.name.isin(central_europe)] = \"CentralEurope\"\n",
    "glm_countries['region_coarse'][glm_countries.name.isin(southern_europe)] = \"SouthernEurope\"\n",
    "glm_countries['region_coarse'][glm_countries.name.isin(south_american)] = \"SouthAmerica\""
   ]
  },
  {
   "cell_type": "code",
   "execution_count": 88,
   "id": "16082e26",
   "metadata": {},
   "outputs": [
    {
     "data": {
      "text/html": [
       "<div>\n",
       "<style scoped>\n",
       "    .dataframe tbody tr th:only-of-type {\n",
       "        vertical-align: middle;\n",
       "    }\n",
       "\n",
       "    .dataframe tbody tr th {\n",
       "        vertical-align: top;\n",
       "    }\n",
       "\n",
       "    .dataframe thead th {\n",
       "        text-align: right;\n",
       "    }\n",
       "</style>\n",
       "<table border=\"1\" class=\"dataframe\">\n",
       "  <thead>\n",
       "    <tr style=\"text-align: right;\">\n",
       "      <th></th>\n",
       "      <th>region_coarse</th>\n",
       "      <th>lat</th>\n",
       "      <th>long</th>\n",
       "    </tr>\n",
       "  </thead>\n",
       "  <tbody>\n",
       "    <tr>\n",
       "      <th>0</th>\n",
       "      <td>CentralEurope</td>\n",
       "      <td>17.222905</td>\n",
       "      <td>47.426067</td>\n",
       "    </tr>\n",
       "    <tr>\n",
       "      <th>1</th>\n",
       "      <td>NorthAmerica</td>\n",
       "      <td>-105.370909</td>\n",
       "      <td>53.587352</td>\n",
       "    </tr>\n",
       "    <tr>\n",
       "      <th>2</th>\n",
       "      <td>SouthAmerica</td>\n",
       "      <td>-73.734769</td>\n",
       "      <td>-2.632175</td>\n",
       "    </tr>\n",
       "    <tr>\n",
       "      <th>3</th>\n",
       "      <td>SouthernEurope</td>\n",
       "      <td>0.156001</td>\n",
       "      <td>40.911296</td>\n",
       "    </tr>\n",
       "    <tr>\n",
       "      <th>4</th>\n",
       "      <td>WesternEurope</td>\n",
       "      <td>5.222324</td>\n",
       "      <td>48.761221</td>\n",
       "    </tr>\n",
       "  </tbody>\n",
       "</table>\n",
       "</div>"
      ],
      "text/plain": [
       "    region_coarse         lat       long\n",
       "0   CentralEurope   17.222905  47.426067\n",
       "1    NorthAmerica -105.370909  53.587352\n",
       "2    SouthAmerica  -73.734769  -2.632175\n",
       "3  SouthernEurope    0.156001  40.911296\n",
       "4   WesternEurope    5.222324  48.761221"
      ]
     },
     "execution_count": 88,
     "metadata": {},
     "output_type": "execute_result"
    }
   ],
   "source": [
    "#assuming the earth is flat for nearby countries, I take the mean of the centroids in each region to find the midpoint between them \n",
    "glm_countries.lat = glm_countries.lat.astype(\"float\")\n",
    "glm_countries.long = glm_countries.long.astype(\"float\")\n",
    "glm_regions = glm_countries.groupby('region_coarse').mean().reset_index()\n",
    "glm_regions"
   ]
  },
  {
   "cell_type": "code",
   "execution_count": 90,
   "id": "cdb05506",
   "metadata": {},
   "outputs": [],
   "source": [
    "#convert to radians\n",
    "glm_regions['lat'] = np.radians(glm_regions['lat'])\n",
    "glm_regions['long'] = np.radians(glm_regions['long'])"
   ]
  },
  {
   "cell_type": "code",
   "execution_count": 91,
   "id": "561242b0",
   "metadata": {},
   "outputs": [],
   "source": [
    "#access the scipy distance metric function for haversine distance\n",
    "dist = DistanceMetric.get_metric('haversine')"
   ]
  },
  {
   "cell_type": "code",
   "execution_count": 98,
   "id": "f90a17aa",
   "metadata": {},
   "outputs": [],
   "source": [
    "#make symmetric distance matrix for regions\n",
    "distance_regions =pd.DataFrame(dist.pairwise(glm_regions[['lat','long']].to_numpy())*3798, columns =glm_regions.region_coarse.unique(), index=glm_regions.region_coarse.unique()) #calculate pairwise distance in miles\n",
    "distance_regions.to_csv(\"../mascot_glm/data/regions_distance_matrix.csv\")"
   ]
  },
  {
   "cell_type": "markdown",
   "id": "4361c27e",
   "metadata": {},
   "source": [
    "## now do the same for countries"
   ]
  },
  {
   "cell_type": "code",
   "execution_count": 99,
   "id": "8a22d9de",
   "metadata": {},
   "outputs": [],
   "source": [
    "#convert to radians\n",
    "glm_countries['lat'] = np.radians(glm_countries['lat'])\n",
    "glm_countries['long'] = np.radians(glm_countries['long'])"
   ]
  },
  {
   "cell_type": "code",
   "execution_count": 100,
   "id": "d9b97d63",
   "metadata": {},
   "outputs": [],
   "source": [
    "distance_countries = pd.DataFrame(dist.pairwise(glm_countries[['lat','long']].to_numpy())*3798, columns =glm_countries.name.unique(), index=glm_countries.name.unique()) #calculate pairwise distance in miles\n",
    "distance_countries.to_csv(\"../mascot_glm/data/countries_distance_matrix.csv\")"
   ]
  },
  {
   "cell_type": "code",
   "execution_count": null,
   "id": "49bb86d7",
   "metadata": {},
   "outputs": [],
   "source": []
  }
 ],
 "metadata": {
  "kernelspec": {
   "display_name": "Python 3 (ipykernel)",
   "language": "python",
   "name": "python3"
  },
  "language_info": {
   "codemirror_mode": {
    "name": "ipython",
    "version": 3
   },
   "file_extension": ".py",
   "mimetype": "text/x-python",
   "name": "python",
   "nbconvert_exporter": "python",
   "pygments_lexer": "ipython3",
   "version": "3.8.13"
  }
 },
 "nbformat": 4,
 "nbformat_minor": 5
}

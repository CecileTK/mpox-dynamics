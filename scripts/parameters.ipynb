{
 "cells": [
  {
   "cell_type": "markdown",
   "id": "cbee2956",
   "metadata": {},
   "source": [
    "# parameter estimates using logistic growth model"
   ]
  },
  {
   "cell_type": "code",
   "execution_count": 75,
   "id": "172da9e8",
   "metadata": {},
   "outputs": [],
   "source": [
    "from datetime import datetime, timedelta, date\n",
    "import math \n",
    "import pandas as pd \n",
    "import matplotlib as mpl "
   ]
  },
  {
   "cell_type": "markdown",
   "id": "a98ce84f",
   "metadata": {},
   "source": [
    "### TMRCA"
   ]
  },
  {
   "cell_type": "code",
   "execution_count": 49,
   "id": "9ee88a5c",
   "metadata": {},
   "outputs": [
    {
     "name": "stdout",
     "output_type": "stream",
     "text": [
      "Mean TMRCA: 2021.969 +/- 0.005 or 2021-12-20\n",
      "95% CI: between 2021-10-22 and 2022-02-05 ( 2021.806 , 2022.097 ) \n",
      "\n",
      "December 20, 2021\n",
      "October 22, 2021\n",
      "February 05, 2022\n"
     ]
    }
   ],
   "source": [
    "youngest_tip = 2022.7972602739726 ## for 528 tips, youngest_tip = 2022.8 \n",
    "\n",
    "rootHeight_mean = 0.8276\n",
    "rootHeight_upper = 0.991\n",
    "rootHeight_lower = 0.6997\n",
    "std_error_of_mean = 0.0051618\n",
    "\n",
    "TMRCA_mean = round(youngest_tip, 3) - round(rootHeight_mean, 3)\n",
    "TMRCA_95CI_upper = round(youngest_tip,3) - round(rootHeight_upper, 3)\n",
    "TMRCA_95CI_lower = round(youngest_tip,3) - round(rootHeight_lower,3)\n",
    "\n",
    "def format_date(number):\n",
    "\n",
    "    year = int(number)\n",
    "    d = timedelta(days=(number - year)*365)\n",
    "    day_one = datetime(year,1,1)\n",
    "    date = d + day_one\n",
    "    return date.date()\n",
    "\n"
   ]
  },
  {
   "cell_type": "code",
   "execution_count": 33,
   "id": "b3b17683",
   "metadata": {},
   "outputs": [
    {
     "name": "stdout",
     "output_type": "stream",
     "text": [
      "og 2022.7972602739726\n",
      "year 2022\n",
      "rem 0.7972602739725971\n",
      "month 8\n"
     ]
    }
   ],
   "source": [
    "print('Mean TMRCA:', TMRCA_mean, '+/-', round(std_error_of_mean,3), 'or', format_date(TMRCA_mean))\n",
    "print('95% CI:','between', format_date(TMRCA_95CI_upper), 'and', format_date(TMRCA_95CI_lower) ,'(', TMRCA_95CI_upper, ',', TMRCA_95CI_lower, ') \\n')\n",
    "\n",
    "\n",
    "print(format_date(TMRCA_mean).strftime(\"%B %d, %Y\"))\n",
    "print(format_date(TMRCA_95CI_upper).strftime(\"%B %d, %Y\"))\n",
    "print(format_date(TMRCA_95CI_lower).strftime(\"%B %d, %Y\"))\n"
   ]
  },
  {
   "cell_type": "markdown",
   "id": "0b79a673",
   "metadata": {},
   "source": []
  },
  {
   "cell_type": "code",
   "execution_count": 62,
   "id": "04a7a8e5",
   "metadata": {},
   "outputs": [
    {
     "data": {
      "text/plain": [
       "[30.445825519793505, 17.56801361731951, 12.283578321772147]"
      ]
     },
     "execution_count": 62,
     "metadata": {},
     "output_type": "execute_result"
    }
   ],
   "source": [
    "## parameter estimates from tracer\n",
    "k = [9.67, 25.3132, 40.2175] \n",
    "k_mean_error = 2.5524\n",
    "r = [8.3098, 14.4011,20.5965]\n",
    "r_mean_error = 0.154\n",
    "t50_years = [0.282, 0.3975, 0.5062] \n",
    "t50_mean_error = .0036164"
   ]
  },
  {
   "cell_type": "markdown",
   "id": "1e9e0285",
   "metadata": {},
   "source": [
    "### doubling time"
   ]
  },
  {
   "cell_type": "code",
   "execution_count": 64,
   "id": "bcf90e66",
   "metadata": {},
   "outputs": [
    {
     "data": {
      "text/plain": [
       "[30.446, 17.568, 12.284]"
      ]
     },
     "execution_count": 64,
     "metadata": {},
     "output_type": "execute_result"
    }
   ],
   "source": [
    "d = []\n",
    "for i in range(len(r)): \n",
    "    d.append(round((math.log(2)/r[i])*365,3)) \n",
    "\n",
    "d"
   ]
  },
  {
   "cell_type": "markdown",
   "id": "2a95cfde",
   "metadata": {},
   "source": [
    "### exponential gowth rate"
   ]
  },
  {
   "cell_type": "code",
   "execution_count": 65,
   "id": "dbddf911",
   "metadata": {},
   "outputs": [
    {
     "data": {
      "text/plain": [
       "[0.023, 0.039, 0.056]"
      ]
     },
     "execution_count": 65,
     "metadata": {},
     "output_type": "execute_result"
    }
   ],
   "source": [
    "r_days = []\n",
    "for i in range(len(r)): \n",
    "    r_days.append(round(r[i]/365,3))\n",
    "\n",
    "r_days"
   ]
  },
  {
   "cell_type": "markdown",
   "id": "4479d460",
   "metadata": {},
   "source": [
    "### fundamental reproductive number\n",
    "\n",
    "SIR dynamics: \n",
    "per-day rate of increase (r) = contact rate (β) - recovery rate (γ) \n",
    "\n",
    "solve for β: r + γ \n",
    "\n",
    "find R0: R0 = β / γ\n"
   ]
  },
  {
   "cell_type": "code",
   "execution_count": 70,
   "id": "002989a1",
   "metadata": {},
   "outputs": [
    {
     "name": "stdout",
     "output_type": "stream",
     "text": [
      "γ = 0.048\n",
      "r = 0.039\n",
      "β = 0.087\n",
      "R0 = 1.812\n"
     ]
    }
   ],
   "source": [
    "# 21 day duration of infection (14-28) // WHO monkeypox fact sheet\n",
    "\n",
    "gamma = round(1/21, 3) # recovery rate per day \n",
    "\n",
    "r_mean = r_days[1]\n",
    "\n",
    "beta = r_mean + gamma\n",
    "\n",
    "r0 = round(beta/gamma, 3) \n",
    "\n",
    "\n",
    "print('γ =',gamma)\n",
    "print('r =', r_mean)\n",
    "print('β =',beta)\n",
    "print('R0 =',r0)"
   ]
  },
  {
   "cell_type": "markdown",
   "id": "ca4bccc4",
   "metadata": {},
   "source": [
    "### Early generation time\n",
    "\n",
    "τ = 1 / (2 β) \n",
    "\n",
    "Accoriding to WHO, incubation period is 5-21 days; \n",
    "early in the pandemic, S = 1, so generation time only depends on contact rate -> 5.747 days "
   ]
  },
  {
   "cell_type": "code",
   "execution_count": 74,
   "id": "08aaf2d7",
   "metadata": {},
   "outputs": [
    {
     "name": "stdout",
     "output_type": "stream",
     "text": [
      "τ (days) = 5.747\n",
      "τ (years) = 0.016\n"
     ]
    }
   ],
   "source": [
    "tau_early = 1/(2*beta)\n",
    "\n",
    "print('τ (days) =', round(tau_early,3))\n",
    "print('τ (years) =', round(tau_early/365,3))  "
   ]
  },
  {
   "cell_type": "markdown",
   "id": "9989adf1",
   "metadata": {},
   "source": [
    " ### \n",
    " \n"
   ]
  },
  {
   "cell_type": "code",
   "execution_count": null,
   "id": "665f1f85",
   "metadata": {},
   "outputs": [],
   "source": []
  },
  {
   "cell_type": "markdown",
   "id": "d930bb0e",
   "metadata": {},
   "source": [
    "## Netau through time"
   ]
  },
  {
   "cell_type": "markdown",
   "id": "79bd95dc",
   "metadata": {},
   "source": [
    "### read in in log file"
   ]
  },
  {
   "cell_type": "code",
   "execution_count": 76,
   "id": "85ac50f6",
   "metadata": {},
   "outputs": [
    {
     "data": {
      "text/html": [
       "<div>\n",
       "<style scoped>\n",
       "    .dataframe tbody tr th:only-of-type {\n",
       "        vertical-align: middle;\n",
       "    }\n",
       "\n",
       "    .dataframe tbody tr th {\n",
       "        vertical-align: top;\n",
       "    }\n",
       "\n",
       "    .dataframe thead th {\n",
       "        text-align: right;\n",
       "    }\n",
       "</style>\n",
       "<table border=\"1\" class=\"dataframe\">\n",
       "  <thead>\n",
       "    <tr style=\"text-align: right;\">\n",
       "      <th></th>\n",
       "      <th></th>\n",
       "      <th></th>\n",
       "      <th>Unnamed: 0</th>\n",
       "      <th>Logistic t50: 235hmpxv_logistic.log</th>\n",
       "      <th>Unnamed: 2</th>\n",
       "      <th>Unnamed: 3</th>\n",
       "      <th>Unnamed: 4</th>\n",
       "    </tr>\n",
       "  </thead>\n",
       "  <tbody>\n",
       "    <tr>\n",
       "      <th>time</th>\n",
       "      <th>date</th>\n",
       "      <th>datetime</th>\n",
       "      <td>milliseconds</td>\n",
       "      <td>mean</td>\n",
       "      <td>median</td>\n",
       "      <td>upper</td>\n",
       "      <td>lower</td>\n",
       "    </tr>\n",
       "    <tr>\n",
       "      <th>2022.7972602739726</th>\n",
       "      <th>2022-10-18</th>\n",
       "      <th>2022-10-18T08:00:00</th>\n",
       "      <td>1666080000846</td>\n",
       "      <td>25.313161588084533</td>\n",
       "      <td>20.311422837120407</td>\n",
       "      <td>49.88837554388796</td>\n",
       "      <td>11.432421391925663</td>\n",
       "    </tr>\n",
       "    <tr>\n",
       "      <th>2022.7901922540573</th>\n",
       "      <th>2022-10-15</th>\n",
       "      <th>2022-10-15T18:05:03</th>\n",
       "      <td>1665857103770</td>\n",
       "      <td>24.82677653408336</td>\n",
       "      <td>20.29793931849625</td>\n",
       "      <td>49.80447725367827</td>\n",
       "      <td>11.431847650959531</td>\n",
       "    </tr>\n",
       "    <tr>\n",
       "      <th>2022.783124234142</th>\n",
       "      <th>2022-10-13</th>\n",
       "      <th>2022-10-13T04:10:06</th>\n",
       "      <td>1665634206694</td>\n",
       "      <td>24.4567159808162</td>\n",
       "      <td>20.27838927343065</td>\n",
       "      <td>49.491179441456346</td>\n",
       "      <td>11.431197292235618</td>\n",
       "    </tr>\n",
       "    <tr>\n",
       "      <th>2022.7760562142266</th>\n",
       "      <th>2022-10-10</th>\n",
       "      <th>2022-10-10T14:15:09</th>\n",
       "      <td>1665411309618</td>\n",
       "      <td>24.156761965840328</td>\n",
       "      <td>20.249127208538543</td>\n",
       "      <td>49.10957347243773</td>\n",
       "      <td>11.430460094712528</td>\n",
       "    </tr>\n",
       "    <tr>\n",
       "      <th>...</th>\n",
       "      <th>...</th>\n",
       "      <th>...</th>\n",
       "      <td>...</td>\n",
       "      <td>...</td>\n",
       "      <td>...</td>\n",
       "      <td>...</td>\n",
       "      <td>...</td>\n",
       "    </tr>\n",
       "    <tr>\n",
       "      <th>2022.125798382017</th>\n",
       "      <th>2022-02-15</th>\n",
       "      <th>2022-02-15T05:59:38</th>\n",
       "      <td>1644904778628</td>\n",
       "      <td>0.5811366768472955</td>\n",
       "      <td>0.4560852452062752</td>\n",
       "      <td>1.8019867574506072</td>\n",
       "      <td>0.08686967260256885</td>\n",
       "    </tr>\n",
       "    <tr>\n",
       "      <th>2022.1187303621016</th>\n",
       "      <th>2022-02-12</th>\n",
       "      <th>2022-02-12T16:04:41</th>\n",
       "      <td>1644681881552</td>\n",
       "      <td>0.532593274662271</td>\n",
       "      <td>0.4144682837157928</td>\n",
       "      <td>1.7104604147697249</td>\n",
       "      <td>0.0756261479935549</td>\n",
       "    </tr>\n",
       "    <tr>\n",
       "      <th>2022.1116623421863</th>\n",
       "      <th>2022-02-10</th>\n",
       "      <th>2022-02-10T02:09:44</th>\n",
       "      <td>1644458984476</td>\n",
       "      <td>0.4881724609159278</td>\n",
       "      <td>0.37447511690437973</td>\n",
       "      <td>1.583785750866055</td>\n",
       "      <td>0.06486111324494995</td>\n",
       "    </tr>\n",
       "    <tr>\n",
       "      <th>2022.104594322271</th>\n",
       "      <th>2022-02-07</th>\n",
       "      <th>2022-02-07T12:14:47</th>\n",
       "      <td>1644236087400</td>\n",
       "      <td>0.4475270471155334</td>\n",
       "      <td>0.3392584185752622</td>\n",
       "      <td>1.4810351949694633</td>\n",
       "      <td>0.05596663059640749</td>\n",
       "    </tr>\n",
       "    <tr>\n",
       "      <th>2022.0975263023556</th>\n",
       "      <th>2022-02-04</th>\n",
       "      <th>2022-02-04T22:19:50</th>\n",
       "      <td>1644013190324</td>\n",
       "      <td>0.41033736801709175</td>\n",
       "      <td>0.30734688421626544</td>\n",
       "      <td>1.3821980607353848</td>\n",
       "      <td>0.048471193951649116</td>\n",
       "    </tr>\n",
       "  </tbody>\n",
       "</table>\n",
       "<p>101 rows × 5 columns</p>\n",
       "</div>"
      ],
      "text/plain": [
       "                                                      Unnamed: 0  \\\n",
       "time               date       datetime              milliseconds   \n",
       "2022.7972602739726 2022-10-18 2022-10-18T08:00:00  1666080000846   \n",
       "2022.7901922540573 2022-10-15 2022-10-15T18:05:03  1665857103770   \n",
       "2022.783124234142  2022-10-13 2022-10-13T04:10:06  1665634206694   \n",
       "2022.7760562142266 2022-10-10 2022-10-10T14:15:09  1665411309618   \n",
       "...                                                          ...   \n",
       "2022.125798382017  2022-02-15 2022-02-15T05:59:38  1644904778628   \n",
       "2022.1187303621016 2022-02-12 2022-02-12T16:04:41  1644681881552   \n",
       "2022.1116623421863 2022-02-10 2022-02-10T02:09:44  1644458984476   \n",
       "2022.104594322271  2022-02-07 2022-02-07T12:14:47  1644236087400   \n",
       "2022.0975263023556 2022-02-04 2022-02-04T22:19:50  1644013190324   \n",
       "\n",
       "                                                  Logistic t50: 235hmpxv_logistic.log  \\\n",
       "time               date       datetime                                           mean   \n",
       "2022.7972602739726 2022-10-18 2022-10-18T08:00:00                  25.313161588084533   \n",
       "2022.7901922540573 2022-10-15 2022-10-15T18:05:03                   24.82677653408336   \n",
       "2022.783124234142  2022-10-13 2022-10-13T04:10:06                    24.4567159808162   \n",
       "2022.7760562142266 2022-10-10 2022-10-10T14:15:09                  24.156761965840328   \n",
       "...                                                                               ...   \n",
       "2022.125798382017  2022-02-15 2022-02-15T05:59:38                  0.5811366768472955   \n",
       "2022.1187303621016 2022-02-12 2022-02-12T16:04:41                   0.532593274662271   \n",
       "2022.1116623421863 2022-02-10 2022-02-10T02:09:44                  0.4881724609159278   \n",
       "2022.104594322271  2022-02-07 2022-02-07T12:14:47                  0.4475270471155334   \n",
       "2022.0975263023556 2022-02-04 2022-02-04T22:19:50                 0.41033736801709175   \n",
       "\n",
       "                                                            Unnamed: 2  \\\n",
       "time               date       datetime                          median   \n",
       "2022.7972602739726 2022-10-18 2022-10-18T08:00:00   20.311422837120407   \n",
       "2022.7901922540573 2022-10-15 2022-10-15T18:05:03    20.29793931849625   \n",
       "2022.783124234142  2022-10-13 2022-10-13T04:10:06    20.27838927343065   \n",
       "2022.7760562142266 2022-10-10 2022-10-10T14:15:09   20.249127208538543   \n",
       "...                                                                ...   \n",
       "2022.125798382017  2022-02-15 2022-02-15T05:59:38   0.4560852452062752   \n",
       "2022.1187303621016 2022-02-12 2022-02-12T16:04:41   0.4144682837157928   \n",
       "2022.1116623421863 2022-02-10 2022-02-10T02:09:44  0.37447511690437973   \n",
       "2022.104594322271  2022-02-07 2022-02-07T12:14:47   0.3392584185752622   \n",
       "2022.0975263023556 2022-02-04 2022-02-04T22:19:50  0.30734688421626544   \n",
       "\n",
       "                                                           Unnamed: 3  \\\n",
       "time               date       datetime                          upper   \n",
       "2022.7972602739726 2022-10-18 2022-10-18T08:00:00   49.88837554388796   \n",
       "2022.7901922540573 2022-10-15 2022-10-15T18:05:03   49.80447725367827   \n",
       "2022.783124234142  2022-10-13 2022-10-13T04:10:06  49.491179441456346   \n",
       "2022.7760562142266 2022-10-10 2022-10-10T14:15:09   49.10957347243773   \n",
       "...                                                               ...   \n",
       "2022.125798382017  2022-02-15 2022-02-15T05:59:38  1.8019867574506072   \n",
       "2022.1187303621016 2022-02-12 2022-02-12T16:04:41  1.7104604147697249   \n",
       "2022.1116623421863 2022-02-10 2022-02-10T02:09:44   1.583785750866055   \n",
       "2022.104594322271  2022-02-07 2022-02-07T12:14:47  1.4810351949694633   \n",
       "2022.0975263023556 2022-02-04 2022-02-04T22:19:50  1.3821980607353848   \n",
       "\n",
       "                                                             Unnamed: 4  \n",
       "time               date       datetime                            lower  \n",
       "2022.7972602739726 2022-10-18 2022-10-18T08:00:00    11.432421391925663  \n",
       "2022.7901922540573 2022-10-15 2022-10-15T18:05:03    11.431847650959531  \n",
       "2022.783124234142  2022-10-13 2022-10-13T04:10:06    11.431197292235618  \n",
       "2022.7760562142266 2022-10-10 2022-10-10T14:15:09    11.430460094712528  \n",
       "...                                                                 ...  \n",
       "2022.125798382017  2022-02-15 2022-02-15T05:59:38   0.08686967260256885  \n",
       "2022.1187303621016 2022-02-12 2022-02-12T16:04:41    0.0756261479935549  \n",
       "2022.1116623421863 2022-02-10 2022-02-10T02:09:44   0.06486111324494995  \n",
       "2022.104594322271  2022-02-07 2022-02-07T12:14:47   0.05596663059640749  \n",
       "2022.0975263023556 2022-02-04 2022-02-04T22:19:50  0.048471193951649116  \n",
       "\n",
       "[101 rows x 5 columns]"
      ]
     },
     "execution_count": 76,
     "metadata": {},
     "output_type": "execute_result"
    }
   ],
   "source": [
    "t50_file = \"/Users/nashwa/Desktop/git/hmpxv_dynamics/out/logistic/logistic_growth_t50\"\n",
    "\n",
    "t50_table = pd.read_csv(t50_file,sep='\\t')\n",
    "\n",
    "t50s = t50_table[] "
   ]
  },
  {
   "cell_type": "code",
   "execution_count": 1,
   "id": "4be6c05f",
   "metadata": {},
   "outputs": [
    {
     "ename": "NameError",
     "evalue": "name 'k' is not defined",
     "output_type": "error",
     "traceback": [
      "\u001b[0;31m---------------------------------------------------------------------------\u001b[0m",
      "\u001b[0;31mNameError\u001b[0m                                 Traceback (most recent call last)",
      "Cell \u001b[0;32mIn [1], line 2\u001b[0m\n\u001b[1;32m      1\u001b[0m \u001b[38;5;66;03m#new df: t50s: 95 CI upper, mean,  95 CI lower, TIME, DATE \u001b[39;00m\n\u001b[0;32m----> 2\u001b[0m k[\u001b[38;5;241m1\u001b[39m] \n\u001b[1;32m      3\u001b[0m r_mean \n\u001b[1;32m      4\u001b[0m tau_early\n",
      "\u001b[0;31mNameError\u001b[0m: name 'k' is not defined"
     ]
    }
   ],
   "source": [
    "#new df: t50s: 95 CI upper, mean,  95 CI lower, TIME, DATE \n",
    "k[1] \n",
    "r_mean \n",
    "tau_early \n"
   ]
  },
  {
   "cell_type": "code",
   "execution_count": null,
   "id": "40205d6b",
   "metadata": {},
   "outputs": [],
   "source": [
    "# 13 day incubation period (5-21) // WHO monkeypox fact sheet\n",
    "# tau = 13"
   ]
  },
  {
   "cell_type": "code",
   "execution_count": null,
   "id": "2b864b0c",
   "metadata": {},
   "outputs": [],
   "source": [
    "## notes\n",
    "\n",
    "## https://github.com/trvrb/dynamics-practical/blob/master/examine-the-logistic-growth-output.md\n",
    "\n",
    "## carrying capacity k \n",
    "\n",
    " \n",
    "\n",
    "## doubling time t50 \n",
    "# Ne * τ\n",
    "\n",
    "t50 = log(2) / r * 365 #doubling time in years\n",
    "#use doubling time in days to quantify the exponential growth rate\n",
    "\n",
    "## growth rate Rt"
   ]
  },
  {
   "cell_type": "code",
   "execution_count": null,
   "id": "181a10d2",
   "metadata": {},
   "outputs": [],
   "source": [
    "# run parameter logistic growth + do parametric plotting, \n",
    "# e.g. file:///Users/nashwa/Downloads/ncov-wa-clade.pdf"
   ]
  },
  {
   "cell_type": "markdown",
   "id": "4fa686a2",
   "metadata": {},
   "source": [
    "Population size =\n",
    "1 / rate of coalescence =\n",
    "Ne * τ = \n",
    "\n",
    "Ne * (1 / (2 * β) ) = \n",
    "\n",
    "Ne * (1 / (2 * 0.087) ) = \n",
    "\n",
    "logistic model estimates Netau -> derive Ne at each timepoint; \n",
    "\n",
    "\n",
    "** should tau change over time? estimated as 'early epidemic rate' when S = 1; shifts over course of year ->  "
   ]
  }
 ],
 "metadata": {
  "kernelspec": {
   "display_name": "Python 3 (ipykernel)",
   "language": "python",
   "name": "python3"
  },
  "language_info": {
   "codemirror_mode": {
    "name": "ipython",
    "version": 3
   },
   "file_extension": ".py",
   "mimetype": "text/x-python",
   "name": "python",
   "nbconvert_exporter": "python",
   "pygments_lexer": "ipython3",
   "version": "3.9.12"
  }
 },
 "nbformat": 4,
 "nbformat_minor": 5
}

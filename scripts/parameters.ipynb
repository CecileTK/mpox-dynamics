{
 "cells": [
  {
   "cell_type": "markdown",
   "id": "cbee2956",
   "metadata": {},
   "source": [
    "# parameter estimates using logistic growth model"
   ]
  },
  {
   "cell_type": "code",
   "execution_count": 2,
   "id": "172da9e8",
   "metadata": {},
   "outputs": [],
   "source": [
    "from datetime import datetime, timedelta, date\n",
    "import math \n",
    "import pandas as pd \n",
    "import matplotlib as mpl "
   ]
  },
  {
   "cell_type": "markdown",
   "id": "0b79a673",
   "metadata": {},
   "source": [
    "### Estimates from tracer"
   ]
  },
  {
   "cell_type": "code",
   "execution_count": 24,
   "id": "04a7a8e5",
   "metadata": {},
   "outputs": [],
   "source": [
    "k = [9.67, 25.3132, 40.2175] \n",
    "k_mean_error = 2.5524\n",
    "r = [8.3098, 14.4011,20.5965]\n",
    "r_mean_error = 0.154\n",
    "t50_years = [0.282, 0.3975, 0.5062] \n",
    "t50_mean_error = .0036164"
   ]
  },
  {
   "cell_type": "markdown",
   "id": "a98ce84f",
   "metadata": {},
   "source": [
    "### TMRCA"
   ]
  },
  {
   "cell_type": "code",
   "execution_count": 3,
   "id": "9ee88a5c",
   "metadata": {},
   "outputs": [],
   "source": [
    "youngest_tip = 2022.7972602739726 ## for 528 tips, youngest_tip = 2022.8 \n",
    "\n",
    "rootHeight_mean = 0.8276\n",
    "rootHeight_upper = 0.991\n",
    "rootHeight_lower = 0.6997\n",
    "std_error_of_mean = 0.0051618\n",
    "\n",
    "TMRCA_mean = round(youngest_tip, 3) - round(rootHeight_mean, 3)\n",
    "TMRCA_95CI_upper = round(youngest_tip,3) - round(rootHeight_upper, 3)\n",
    "TMRCA_95CI_lower = round(youngest_tip,3) - round(rootHeight_lower,3)\n",
    "\n",
    "def format_date(number):\n",
    "\n",
    "    year = int(number)\n",
    "    d = timedelta(days=(number - year)*365)\n",
    "    day_one = datetime(year,1,1)\n",
    "    date = d + day_one\n",
    "    return date.date()\n",
    "\n"
   ]
  },
  {
   "cell_type": "code",
   "execution_count": 4,
   "id": "b3b17683",
   "metadata": {},
   "outputs": [
    {
     "name": "stdout",
     "output_type": "stream",
     "text": [
      "Mean TMRCA: 2021.969 +/- 0.005 or 2021-12-20\n",
      "95% CI: between 2021-10-22 and 2022-02-05 ( 2021.806 , 2022.097 ) \n",
      "\n",
      "December 20, 2021\n",
      "October 22, 2021\n",
      "February 05, 2022\n"
     ]
    }
   ],
   "source": [
    "print('Mean TMRCA:', TMRCA_mean, '+/-', round(std_error_of_mean,3), 'or', format_date(TMRCA_mean))\n",
    "print('95% CI:','between', format_date(TMRCA_95CI_upper), 'and', format_date(TMRCA_95CI_lower) ,'(', TMRCA_95CI_upper, ',', TMRCA_95CI_lower, ') \\n')\n",
    "\n",
    "\n",
    "print(format_date(TMRCA_mean).strftime(\"%B %d, %Y\"))\n",
    "print(format_date(TMRCA_95CI_upper).strftime(\"%B %d, %Y\"))\n",
    "print(format_date(TMRCA_95CI_lower).strftime(\"%B %d, %Y\"))\n"
   ]
  },
  {
   "cell_type": "markdown",
   "id": "1e9e0285",
   "metadata": {},
   "source": [
    "### doubling time"
   ]
  },
  {
   "cell_type": "code",
   "execution_count": 12,
   "id": "bcf90e66",
   "metadata": {},
   "outputs": [
    {
     "name": "stdout",
     "output_type": "stream",
     "text": [
      "d = 17.568 days\n"
     ]
    }
   ],
   "source": [
    "d = []\n",
    "for i in range(len(r)): \n",
    "    d.append(round((math.log(2)/r[i])*365,3)) \n",
    "\n",
    "print('d =',d[1],'days')"
   ]
  },
  {
   "cell_type": "markdown",
   "id": "2a95cfde",
   "metadata": {},
   "source": [
    "### exponential gowth rate"
   ]
  },
  {
   "cell_type": "code",
   "execution_count": 15,
   "id": "dbddf911",
   "metadata": {},
   "outputs": [
    {
     "name": "stdout",
     "output_type": "stream",
     "text": [
      "r = 0.039 per day\n"
     ]
    }
   ],
   "source": [
    "r_days = []\n",
    "for i in range(len(r)): \n",
    "    r_days.append(round(r[i]/365,3))\n",
    "\n",
    "print('r =',r_days[1],'per day')"
   ]
  },
  {
   "cell_type": "markdown",
   "id": "4479d460",
   "metadata": {},
   "source": [
    "### fundamental reproductive number\n",
    "\n",
    "SIR dynamics: \n",
    "per-day rate of increase (r) = contact rate (β) - recovery rate (γ) \n",
    "\n",
    "solve for β: r + γ \n",
    "\n",
    "find R0: R0 = β / γ\n"
   ]
  },
  {
   "cell_type": "code",
   "execution_count": 16,
   "id": "002989a1",
   "metadata": {},
   "outputs": [
    {
     "name": "stdout",
     "output_type": "stream",
     "text": [
      "R0 = 1.812\n"
     ]
    }
   ],
   "source": [
    "# 21 day duration of infection (14-28) // WHO monkeypox fact sheet\n",
    "\n",
    "gamma = round(1/21, 3) # recovery rate per day \n",
    "\n",
    "r_mean = r_days[1]\n",
    "\n",
    "beta = r_mean + gamma\n",
    "\n",
    "r0 = round(beta/gamma, 3) \n",
    "\n",
    "print('R0 =',r0)"
   ]
  },
  {
   "cell_type": "markdown",
   "id": "ca4bccc4",
   "metadata": {},
   "source": [
    "### Generation time τ (early)\n",
    "\n",
    "According to WHO, incubation period is 5-21 days; \n",
    "early in the pandemic, S = 1, so generation time is inferred from contact rate alone. \n",
    "Thus, τ = 1 / (2 β) "
   ]
  },
  {
   "cell_type": "code",
   "execution_count": 17,
   "id": "08aaf2d7",
   "metadata": {},
   "outputs": [
    {
     "name": "stdout",
     "output_type": "stream",
     "text": [
      "τ (days) = 5.747\n",
      "τ (years) = 0.016\n"
     ]
    }
   ],
   "source": [
    "tau_early = 1/(2*beta)\n",
    "\n",
    "print('τ (days) =', round(tau_early,3))\n",
    "print('τ (years) =', round(tau_early/365,3))  "
   ]
  },
  {
   "cell_type": "markdown",
   "id": "9989adf1",
   "metadata": {},
   "source": [
    " ### \n",
    " \n"
   ]
  },
  {
   "cell_type": "markdown",
   "id": "e6b73cef",
   "metadata": {},
   "source": [
    "# WIP/NOTEs"
   ]
  },
  {
   "cell_type": "markdown",
   "id": "d930bb0e",
   "metadata": {},
   "source": [
    "## Netau through time"
   ]
  },
  {
   "cell_type": "markdown",
   "id": "79bd95dc",
   "metadata": {},
   "source": [
    "### read in in log file"
   ]
  },
  {
   "cell_type": "code",
   "execution_count": 21,
   "id": "85ac50f6",
   "metadata": {},
   "outputs": [],
   "source": [
    "t50_file = \"/Users/nashwa/Desktop/git/hmpxv_dynamics/out/logistic/logistic_growth_t50.tsv\"\n",
    "\n",
    "t50_table = pd.read_csv(t50_file,sep='\\t')\n"
   ]
  },
  {
   "cell_type": "code",
   "execution_count": 23,
   "id": "4be6c05f",
   "metadata": {},
   "outputs": [],
   "source": [
    "#new df: t50s: 95 CI upper, mean,  95 CI lower, TIME, DATE \n",
    "#k[1] \n",
    "#r_mean \n",
    "#tau_early \n"
   ]
  },
  {
   "cell_type": "code",
   "execution_count": null,
   "id": "40205d6b",
   "metadata": {},
   "outputs": [],
   "source": [
    "# 13 day incubation period (5-21) // WHO monkeypox fact sheet\n",
    "# tau = 13"
   ]
  },
  {
   "cell_type": "code",
   "execution_count": null,
   "id": "2b864b0c",
   "metadata": {},
   "outputs": [],
   "source": [
    "## notes\n",
    "\n",
    "## https://github.com/trvrb/dynamics-practical/blob/master/examine-the-logistic-growth-output.md\n",
    "\n",
    "## carrying capacity k \n",
    "\n",
    " \n",
    "\n",
    "## doubling time t50 \n",
    "# Ne * τ\n",
    "\n",
    "t50 = log(2) / r * 365 #doubling time in years\n",
    "#use doubling time in days to quantify the exponential growth rate\n",
    "\n",
    "## growth rate Rt"
   ]
  },
  {
   "cell_type": "code",
   "execution_count": null,
   "id": "181a10d2",
   "metadata": {},
   "outputs": [],
   "source": [
    "# run parameter logistic growth + do parametric plotting, \n",
    "# e.g. file:///Users/nashwa/Downloads/ncov-wa-clade.pdf"
   ]
  },
  {
   "cell_type": "markdown",
   "id": "4fa686a2",
   "metadata": {},
   "source": [
    "Population size =\n",
    "\n",
    "1 / rate of coalescence =\n",
    "\n",
    "Ne * τ = \n",
    "\n",
    "Ne * (1 / (2 * β) ) = \n",
    "\n",
    "Ne * (1 / (2 * 0.087) ) = \n",
    "\n",
    "logistic model estimates Netau -> derive Ne at each timepoint;  "
   ]
  },
  {
   "cell_type": "code",
   "execution_count": null,
   "id": "6aec4707",
   "metadata": {},
   "outputs": [],
   "source": []
  }
 ],
 "metadata": {
  "kernelspec": {
   "display_name": "Python 3 (ipykernel)",
   "language": "python",
   "name": "python3"
  },
  "language_info": {
   "codemirror_mode": {
    "name": "ipython",
    "version": 3
   },
   "file_extension": ".py",
   "mimetype": "text/x-python",
   "name": "python",
   "nbconvert_exporter": "python",
   "pygments_lexer": "ipython3",
   "version": "3.9.12"
  }
 },
 "nbformat": 4,
 "nbformat_minor": 5
}

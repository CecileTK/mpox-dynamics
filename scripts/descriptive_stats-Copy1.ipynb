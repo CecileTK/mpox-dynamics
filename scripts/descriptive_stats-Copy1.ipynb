{
 "cells": [
  {
   "cell_type": "markdown",
   "id": "9ff86d02",
   "metadata": {},
   "source": [
    "# descriptive stats (R)\n",
    "\n",
    "### Requires: metadata.tsv (via Nextstrain) \n",
    "\n",
    "Goal: generate descriptive barplots (sequence counts by region, sample counts through time) for hmpxv1 subsampled genomes. "
   ]
  },
  {
   "cell_type": "markdown",
   "id": "45eab2f0",
   "metadata": {},
   "source": [
    "### load libraries"
   ]
  },
  {
   "cell_type": "code",
   "execution_count": 3,
   "id": "07c998d0",
   "metadata": {},
   "outputs": [
    {
     "name": "stderr",
     "output_type": "stream",
     "text": [
      "── \u001b[1mAttaching packages\u001b[22m ─────────────────────────────────────────────────────────────────────────────────────────────── tidyverse 1.3.2 ──\n",
      "\u001b[32m✔\u001b[39m \u001b[34mggplot2\u001b[39m 3.4.0      \u001b[32m✔\u001b[39m \u001b[34mpurrr  \u001b[39m 0.3.5 \n",
      "\u001b[32m✔\u001b[39m \u001b[34mtibble \u001b[39m 3.1.8      \u001b[32m✔\u001b[39m \u001b[34mdplyr  \u001b[39m 1.0.10\n",
      "\u001b[32m✔\u001b[39m \u001b[34mtidyr  \u001b[39m 1.2.1      \u001b[32m✔\u001b[39m \u001b[34mstringr\u001b[39m 1.4.1 \n",
      "\u001b[32m✔\u001b[39m \u001b[34mreadr  \u001b[39m 2.1.3      \u001b[32m✔\u001b[39m \u001b[34mforcats\u001b[39m 0.5.2 \n",
      "── \u001b[1mConflicts\u001b[22m ────────────────────────────────────────────────────────────────────────────────────────────────── tidyverse_conflicts() ──\n",
      "\u001b[31m✖\u001b[39m \u001b[34mdplyr\u001b[39m::\u001b[32mfilter()\u001b[39m masks \u001b[34mstats\u001b[39m::filter()\n",
      "\u001b[31m✖\u001b[39m \u001b[34mdplyr\u001b[39m::\u001b[32mlag()\u001b[39m    masks \u001b[34mstats\u001b[39m::lag()\n",
      "Loading required package: timechange\n",
      "\n",
      "\n",
      "Attaching package: ‘lubridate’\n",
      "\n",
      "\n",
      "The following objects are masked from ‘package:base’:\n",
      "\n",
      "    date, intersect, setdiff, union\n",
      "\n",
      "\n",
      "Loading required package: viridisLite\n",
      "\n",
      "\n",
      "Attaching package: ‘scales’\n",
      "\n",
      "\n",
      "The following object is masked from ‘package:viridis’:\n",
      "\n",
      "    viridis_pal\n",
      "\n",
      "\n",
      "The following object is masked from ‘package:purrr’:\n",
      "\n",
      "    discard\n",
      "\n",
      "\n",
      "The following object is masked from ‘package:readr’:\n",
      "\n",
      "    col_factor\n",
      "\n",
      "\n",
      "\u001b[90mggbreak v0.1.1\n",
      "\n",
      "If you use ggbreak in published research, please cite the following\n",
      "paper:\n",
      "\n",
      "S Xu, M Chen, T Feng, L Zhan, L Zhou, G Yu. Use ggbreak to effectively\n",
      "utilize plotting space to deal with large datasets and outliers.\n",
      "Frontiers in Genetics. 2021, 12:774846. doi: 10.3389/fgene.2021.774846\n",
      "\u001b[39m\n",
      "\n"
     ]
    }
   ],
   "source": [
    "library(tidyverse)\n",
    "library(lubridate)\n",
    "library(ggplot2)\n",
    "library(RColorBrewer)\n",
    "library(viridis)\n",
    "library(scales)\n",
    "library(ggbreak) \n",
    "library(patchwork)"
   ]
  },
  {
   "cell_type": "code",
   "execution_count": 4,
   "id": "2a5bb32d",
   "metadata": {},
   "outputs": [
    {
     "name": "stderr",
     "output_type": "stream",
     "text": [
      "\u001b[1mRows: \u001b[22m\u001b[34m237\u001b[39m \u001b[1mColumns: \u001b[22m\u001b[34m30\u001b[39m\n",
      "\u001b[36m──\u001b[39m \u001b[1mColumn specification\u001b[22m \u001b[36m────────────────────────────────────────────────────────────────────────────────────────────────────────────────\u001b[39m\n",
      "\u001b[1mDelimiter:\u001b[22m \"\\t\"\n",
      "\u001b[31mchr\u001b[39m (24): strain, accession, genbank_accession_rev, strain_original, date, r...\n",
      "\u001b[32mdbl\u001b[39m  (4): coverage, missing_data, divergence, nonACGTN\n",
      "\u001b[33mlgl\u001b[39m  (2): reverse, is_reverse_complement\n",
      "\n",
      "\u001b[36mℹ\u001b[39m Use `spec()` to retrieve the full column specification for this data.\n",
      "\u001b[36mℹ\u001b[39m Specify the column types or set `show_col_types = FALSE` to quiet this message.\n",
      "\u001b[1mRows: \u001b[22m\u001b[34m2790\u001b[39m \u001b[1mColumns: \u001b[22m\u001b[34m30\u001b[39m\n",
      "\u001b[36m──\u001b[39m \u001b[1mColumn specification\u001b[22m \u001b[36m────────────────────────────────────────────────────────────────────────────────────────────────────────────────\u001b[39m\n",
      "\u001b[1mDelimiter:\u001b[22m \"\\t\"\n",
      "\u001b[31mchr\u001b[39m  (23): strain, accession, genbank_accession_rev, strain_original, date, ...\n",
      "\u001b[32mdbl\u001b[39m   (4): coverage, missing_data, divergence, nonACGTN\n",
      "\u001b[33mlgl\u001b[39m   (2): reverse, is_reverse_complement\n",
      "\u001b[34mdate\u001b[39m  (1): date_submitted\n",
      "\n",
      "\u001b[36mℹ\u001b[39m Use `spec()` to retrieve the full column specification for this data.\n",
      "\u001b[36mℹ\u001b[39m Specify the column types or set `show_col_types = FALSE` to quiet this message.\n"
     ]
    }
   ],
   "source": [
    "metadata_path <- '../out/beauti/meta.tsv'\n",
    "og_path <- '../monkeypox-build/results/hmpxv1/good_metadata.tsv'\n",
    "\n",
    "meta <- read_tsv(metadata_path)\n",
    "og <- read_tsv(og_path)"
   ]
  },
  {
   "cell_type": "code",
   "execution_count": 5,
   "id": "130b838a",
   "metadata": {},
   "outputs": [],
   "source": [
    "my_theme <- function() {\n",
    "    theme_classic() +\n",
    "    theme( \n",
    "        plot.title = element_text(color=\"black\", size=12, face=\"bold\"),\n",
    "        axis.title.x = element_text(color=\"black\", size=20, face=\"bold\", vjust=2),\n",
    "        axis.title.y = element_text(color=\"black\", size=20, face=\"bold\", vjust=2),\n",
    "      #  axis.text.x = element_text(size= 10, vjust=0.5),\n",
    "      #  axis.text.y = element_text(size = 10),\n",
    "        axis.text=element_text(size=24),\n",
    "        )\n",
    "}\n",
    "\n",
    "options(repr.plot.width=14, repr.plot.height=8)"
   ]
  },
  {
   "cell_type": "code",
   "execution_count": 10,
   "id": "848c99d1",
   "metadata": {},
   "outputs": [],
   "source": [
    "lin_b <- c('B.1',\n",
    " 'B.1.1',\n",
    " 'B.1.10',\n",
    " 'B.1.11',\n",
    " 'B.1.12',\n",
    " 'B.1.13',\n",
    " 'B.1.14',\n",
    " 'B.1.2',\n",
    " 'B.1.3',\n",
    " 'B.1.4',\n",
    " 'B.1.5',\n",
    " 'B.1.6',\n",
    " 'B.1.7',\n",
    " 'B.1.8',\n",
    " 'B.1.9')\n",
    "\n",
    "og <- og %>% filter(lineage %in% lin_b) %>%\n",
    "    select('strain','date','region','country','lineage') %>%\n",
    "    mutate(tmp = str_replace(country, 'UnitedKingdom', 'United Kingdom')) %>%\n",
    "    filter(!grepl('-XX-XX', date)) %>% \n",
    "    mutate(tmp = str_replace(date, '-XX', '-01')) %>%\n",
    "    mutate(date = ymd(tmp)) %>% \n",
    "    mutate(decimal = decimal_date(date)) %>% \n",
    "    mutate(month=month(date)) %>% \n",
    "    select(-tmp) \n",
    "\n",
    "meta <- meta %>% filter(lineage %in% lin_b) %>%\n",
    "    select('strain','date','region','country','lineage') %>%\n",
    "    mutate(tmp = str_replace(country, 'UnitedKingdom', 'United Kingdom')) %>%\n",
    "    filter(!grepl('-XX-XX', date)) %>% \n",
    "    mutate(tmp = str_replace(date, '-XX', '-01')) %>%\n",
    "    mutate(date = ymd(tmp)) %>% \n",
    "    mutate(decimal = decimal_date(date)) %>% \n",
    "    mutate(month=month(date)) %>% \n",
    "    select(-tmp) \n"
   ]
  },
  {
   "cell_type": "markdown",
   "id": "98dc0439",
   "metadata": {},
   "source": [
    "## plot counts over time "
   ]
  },
  {
   "cell_type": "code",
   "execution_count": 12,
   "id": "81ab090f",
   "metadata": {},
   "outputs": [],
   "source": [
    "meta_counts <- meta %>% group_by(date, month) %>% count()\n",
    "og_counts <- og %>% group_by(date,month) %>% count()"
   ]
  },
  {
   "cell_type": "code",
   "execution_count": 13,
   "id": "4e25aba8",
   "metadata": {},
   "outputs": [],
   "source": [
    "og_month <- og %>% group_by(month) %>% summarise(counts=n())\n",
    "meta_month <- meta %>% group_by(month) %>% summarise(counts=n())"
   ]
  },
  {
   "cell_type": "markdown",
   "id": "275ad347",
   "metadata": {},
   "source": [
    "### plot counts from original dataset"
   ]
  },
  {
   "cell_type": "code",
   "execution_count": 14,
   "id": "387ff4b3",
   "metadata": {},
   "outputs": [
    {
     "name": "stderr",
     "output_type": "stream",
     "text": [
      "Warning message in geom_histogram(position = \"stack\", stat = \"identity\", bins = 8, :\n",
      "“\u001b[1m\u001b[22mIgnoring unknown parameters: `binwidth`, `bins`, and `pad`”\n"
     ]
    },
    {
     "ename": "ERROR",
     "evalue": "Error in is_missing(values): object 'color_dic' not found\n",
     "output_type": "error",
     "traceback": [
      "Error in is_missing(values): object 'color_dic' not found\nTraceback:\n",
      "1. scale_fill_manual(values = color_dic)",
      "2. manual_scale(aesthetics, values, breaks, ..., na.value = na.value)",
      "3. is_missing(values)"
     ]
    }
   ],
   "source": [
    "plot_og <- og_month %>% ggplot(aes(y=log(counts), x=month)) + \n",
    "         geom_histogram(position=\"stack\", stat=\"identity\", bins=8, width=0.8, fill='white', color='black') + \n",
    "         my_theme() + \n",
    "         scale_fill_manual(values=color_dic) + \n",
    "         ylab('log(Sample counts)') + xlab('Date') +\n",
    "         scale_x_continuous(labels=function(x) month(x, label=TRUE), breaks = scales::pretty_breaks(n = 8))\n",
    "                            \n",
    "plot_og"
   ]
  },
  {
   "cell_type": "markdown",
   "id": "0711a823",
   "metadata": {},
   "source": [
    "### overlay counts from subsampled data"
   ]
  },
  {
   "cell_type": "code",
   "execution_count": null,
   "id": "79069a6e",
   "metadata": {},
   "outputs": [],
   "source": [
    "og_month %>% ggplot(aes(y=log(counts), x=month)) + \n",
    "         geom_histogram(position=\"stack\", stat=\"identity\", bins=8, width=0.8, fill='white', color='black') + \n",
    "         my_theme() + \n",
    "         scale_fill_manual(values=color_dic) + \n",
    "         ylab('log(Sample counts)') + xlab('2022') +\n",
    "         scale_x_continuous(labels=function(x) month(x, label=TRUE), breaks = scales::pretty_breaks(n = 8)) + \n",
    "         geom_histogram(data=meta_month, stat = 'identity', fill='black',width=0.5)        \n",
    "\n",
    "#ggsave('relative_counts.png', width = 14, height = 8)"
   ]
  },
  {
   "cell_type": "markdown",
   "id": "93aec37e",
   "metadata": {},
   "source": [
    "### Sample counts by region "
   ]
  },
  {
   "cell_type": "code",
   "execution_count": null,
   "id": "64751038",
   "metadata": {},
   "outputs": [],
   "source": [
    "meta$country <- factor(meta$country,\n",
    "                       levels= c('Netherlands',\n",
    "                                 'France',\n",
    "                                 'United Kingdom',\n",
    "                                 'Germany',\n",
    "                                 'Switzerland',\n",
    "                                 'Belgium',  \n",
    "                                 'Austria',\n",
    "                                \n",
    "                                 'Slovenia',\n",
    "                                 'Slovakia',\n",
    "                                 \n",
    "                                 'Finland',\n",
    "                                 \n",
    "                                 'Spain',\n",
    "                                 'Portugal',\n",
    "                                 'Italy',\n",
    "                                 'Colombia',\n",
    "                                 'Peru',\n",
    "                                 \n",
    "                                 'Canada',\n",
    "                                 'USA'))\n",
    "\n",
    "og$country <- factor(og$country)"
   ]
  },
  {
   "cell_type": "code",
   "execution_count": null,
   "id": "d352c81a",
   "metadata": {},
   "outputs": [],
   "source": [
    "country_month_og <- og %>% group_by(country, month) %>% summarise(counts=n()) %>% mutate(month=month(month, label=T)) "
   ]
  },
  {
   "cell_type": "markdown",
   "id": "602706ad",
   "metadata": {},
   "source": [
    "### assign colors to regions"
   ]
  },
  {
   "cell_type": "code",
   "execution_count": null,
   "id": "4f87009f",
   "metadata": {},
   "outputs": [],
   "source": [
    "color_dic <- c('North America'= '#66c2a5',\n",
    "               'South America'= '#fc8d62', \n",
    "               'Southern Europe'= '#8da0cb',\n",
    "               'Northern Europe'= '#e78ac3',\n",
    "               'Central/Eastern Europe'= '#a6d854',\n",
    "               'Western Europe'= '#ffd92f')\n",
    "\n",
    "loc <- tibble(country=levels(meta$country),\n",
    "                   place= c(rep('Western Europe',7),\n",
    "                              rep('Central/Eastern Europe',2),\n",
    "                              'Northern Europe',\n",
    "                              rep('Southern Europe', 3), \n",
    "                              rep('South America',2),\n",
    "                              rep('North America',2)))\n",
    "\n",
    "meta <- meta %>% left_join(loc, by = 'country')"
   ]
  },
  {
   "cell_type": "markdown",
   "id": "a93939d1",
   "metadata": {},
   "source": [
    "### plot sample counts by region through time"
   ]
  },
  {
   "cell_type": "code",
   "execution_count": null,
   "id": "d084076b",
   "metadata": {},
   "outputs": [],
   "source": [
    "meta_grouped <- meta %>% group_by(month, place) %>% count()\n",
    "\n",
    "meta_month <- meta %>% group_by(month) %>% count()\n",
    "\n",
    "plot_meta <- meta %>% group_by(month, place) %>%\n",
    "         count() %>%\n",
    "         ggplot(aes(fill=place, y=log(n), x=month)) + \n",
    "         geom_histogram(position=\"stack\", stat=\"identity\", bins=8) + \n",
    "         my_theme() + \n",
    "         scale_fill_manual(values=color_dic) + \n",
    "         ylab('Sample counts') + xlab('2020') + guides(fill=guide_legend(\"Region\"))+\n",
    "         scale_x_continuous(labels=function(x) month(x, label=TRUE), breaks = scales::pretty_breaks(n = 8))\n",
    "  \n",
    "plot_meta \n",
    "\n",
    "ggsave('sample_counts.png', width = 14, height = 8)"
   ]
  }
 ],
 "metadata": {
  "kernelspec": {
   "display_name": "R",
   "language": "R",
   "name": "ir"
  },
  "language_info": {
   "codemirror_mode": "r",
   "file_extension": ".r",
   "mimetype": "text/x-r-source",
   "name": "R",
   "pygments_lexer": "r",
   "version": "4.2.1"
  }
 },
 "nbformat": 4,
 "nbformat_minor": 5
}

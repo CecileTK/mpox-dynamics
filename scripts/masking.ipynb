{
 "cells": [
  {
   "cell_type": "markdown",
   "id": "e75368fa",
   "metadata": {},
   "source": [
    "# Masking invariant sites from multi-sequence alignment \n",
    "### This script generates a BED file for use with `augur mask` \n",
    "### Requires VCF from aligned fasta.  "
   ]
  },
  {
   "cell_type": "markdown",
   "id": "3b6a9101",
   "metadata": {},
   "source": [
    "Use [snp-sites](https://github.com/sanger-pathogens/snp-sites) to generate VCF from alignment file: \n",
    "    \n",
    "    `snp-sites -v -o snps.vcf align.fasta`\n"
   ]
  },
  {
   "cell_type": "code",
   "execution_count": 170,
   "id": "f66ac248",
   "metadata": {},
   "outputs": [],
   "source": [
    "import pandas as pd \n",
    "import numpy as np\n",
    "import re \n",
    "\n",
    "from pysam import VariantFile\n",
    "from random import sample"
   ]
  },
  {
   "cell_type": "code",
   "execution_count": 171,
   "id": "8c587b07",
   "metadata": {},
   "outputs": [],
   "source": [
    "# read in VCF\n",
    "vcf = VariantFile(\"/Users/nashwa/Desktop/git/hmpxv_dynamics/out/snps/snps.vcf\")\n",
    "\n",
    "# get alignment length\n",
    "alignment_length = 0 \n",
    "for rec in vcf.header.records:\n",
    "    match = (re.compile(\"\\d{5}\\d\")).search(str(rec))\n",
    "    if match:\n",
    "        alignment_length = int(match.group())\n",
    "\n",
    "# get variant sites, store in snps[] \n",
    "snps = [] \n",
    "for snp in vcf.fetch():\n",
    "    snps.append(snp.pos)\n",
    "\n",
    "#get invariant sites, store in invar[] \n",
    "invar = []\n",
    "for i in range(alignment_length):\n",
    "    if i not in snps:\n",
    "        invar.append(i)\n",
    "    \n",
    "#get fraction of variants vs invariants \n",
    "var_frac = round((len(snps)/alignment_length),3)\n",
    "mono_frac = 1 - var_frac\n",
    "\n",
    "\n",
    "## sample a random 90% of invar[] to remove\n",
    "prune = int(0.9*alignment_length) \n",
    "remove = sample(invar,prune)\n"
   ]
  },
  {
   "cell_type": "markdown",
   "id": "f8de875b",
   "metadata": {},
   "source": [
    "### Append invariants to BED file\n",
    "Note: BED text format uses 0-based positions + half-open notation range "
   ]
  },
  {
   "cell_type": "code",
   "execution_count": 209,
   "id": "149996b7",
   "metadata": {},
   "outputs": [],
   "source": [
    "# import existing mask.bed file\n",
    "bed = pd.read_csv('/Users/nashwa/Desktop/git/monkeypox-build/config/mask.bed', delimiter='\\t')\n",
    "bed_out = pd.read_csv('/Users/nashwa/Desktop/git/monkeypox-build/config/mask.bed', delimiter='\\t')\n",
    "\n",
    "# append sites-to-mask\n",
    "bed_out = bed_out.reindex(list(range(0, (len(bed)+prune)))).reset_index(drop=True) \n",
    "bed_out.loc[:,'Chrom'] = 'chr'\n",
    "bed_out.loc[len(bed):len(bed)+prune, 'ChromStart'] = remove\n",
    "\n",
    "chrom_end = [x + 1 for x in remove] \n",
    "bed_out.loc[len(bed):len(bed)+prune, 'ChromEnd'] = chrom_end"
   ]
  },
  {
   "cell_type": "code",
   "execution_count": 210,
   "id": "0181a22d",
   "metadata": {},
   "outputs": [
    {
     "name": "stdout",
     "output_type": "stream",
     "text": [
      "before pruning:\n",
      "alignment length: 197209\n",
      "variant sites: 1270 ( 0.006 %)\n",
      "invariant sites: 195939 ( 0.994 %)\n",
      "\n",
      "\n",
      "after pruning:\n",
      "alignment length: 19721 (removed 177488 sites)\n",
      "variant sites: 1270 ( 0.064 %)\n",
      "invariant sites: 18451 ( 0.936 %)\n"
     ]
    }
   ],
   "source": [
    "# report basic stats\n",
    "\n",
    "print(\"before pruning:\")\n",
    "print(\"alignment length:\", alignment_length)\n",
    "print(\"variant sites:\", len(snps), '(',var_frac,'%)')\n",
    "print(\"invariant sites:\", len(invar), '(', mono_frac,'%)')\n",
    "print(\"\\n\")\n",
    "print(\"after pruning:\")\n",
    "print(\"alignment length:\", (len(invar) - prune) + len(snps), '(removed', prune, 'sites)' )  \n",
    "print(\"variant sites:\", len(snps),\n",
    "      '(',round(  (len(snps) / ((len(invar) - prune)+len(snps))) ,3),'%)')\n",
    "print(\"invariant sites:\", len(invar) - prune, \n",
    "      '(', round( (len(invar)-prune) / ((len(invar) - prune)+len(snps)),3  )  ,'%)')"
   ]
  },
  {
   "cell_type": "code",
   "execution_count": 211,
   "id": "81519953",
   "metadata": {},
   "outputs": [],
   "source": [
    "# export new BED file. Use with `augur mask --mask [BED file]`. \n",
    "bed_out.to_csv(\"/Users/nashwa/Desktop/git/monkeypox-build/config/to_mask.bed\", sep = \"\\t\", index=False)"
   ]
  }
 ],
 "metadata": {
  "kernelspec": {
   "display_name": "Python 3 (ipykernel)",
   "language": "python",
   "name": "python3"
  },
  "language_info": {
   "codemirror_mode": {
    "name": "ipython",
    "version": 3
   },
   "file_extension": ".py",
   "mimetype": "text/x-python",
   "name": "python",
   "nbconvert_exporter": "python",
   "pygments_lexer": "ipython3",
   "version": "3.9.12"
  }
 },
 "nbformat": 4,
 "nbformat_minor": 5
}

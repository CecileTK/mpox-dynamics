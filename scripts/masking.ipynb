{
 "cells": [
  {
   "cell_type": "markdown",
   "id": "bfafd120",
   "metadata": {},
   "source": [
    "# Masking invariant sites from multi-sequence alignment to minimize BEAST computational time\n",
    "### This script generates a BED file for use with `augur mask`. \n",
    "### Requires VCF from aligned fasta.  "
   ]
  },
  {
   "cell_type": "markdown",
   "id": "e683eb29",
   "metadata": {},
   "source": [
    "Use [snp-sites](https://github.com/sanger-pathogens/snp-sites) to generate VCF from alignment file: \n",
    "    \n",
    "    `snp-sites -v -o snps.vcf align.fasta`\n"
   ]
  },
  {
   "cell_type": "code",
   "execution_count": 100,
   "id": "04acc054",
   "metadata": {},
   "outputs": [],
   "source": [
    "import pandas as pd \n",
    "import re \n",
    "\n",
    "from pysam import VariantFile\n",
    "from random import sample"
   ]
  },
  {
   "cell_type": "code",
   "execution_count": 169,
   "id": "6db3c456",
   "metadata": {},
   "outputs": [],
   "source": [
    "# read in VCF\n",
    "vcf = VariantFile(\"/Users/nashwa/Desktop/git/hmpxv_dynamics/out/snps/snps.vcf\")\n",
    "\n",
    "# get alignment length\n",
    "alignment_length = 0 \n",
    "for rec in vcf.header.records:\n",
    "    match = (re.compile(\"\\d{5}\\d\")).search(str(rec))\n",
    "    if match:\n",
    "        alignment_length = int(match.group())\n",
    "\n",
    "# get variant sites, store in snps[] \n",
    "snps = [] \n",
    "for snp in vcf.fetch():\n",
    "    snps.append(snp.pos)\n",
    "\n",
    "#get invariant sites, store in invar[] \n",
    "invar = []\n",
    "for i in range(alignment_length):\n",
    "    if i not in snps:\n",
    "        invar.append(i)\n",
    "    \n",
    "#get fraction of variants vs invariants \n",
    "var_frac = round((len(snps)/alignment_length),3)\n",
    "mono_frac = 1 - var_frac\n",
    "\n",
    "\n",
    "## sample a random 90% of invar[] to remove\n",
    "prune = int(0.9*alignment_length) \n",
    "remove = sample(invar,prune)\n"
   ]
  },
  {
   "cell_type": "markdown",
   "id": "f12fbef3",
   "metadata": {},
   "source": [
    "### Append invariants to BED file\n",
    "Note: BED text format uses 0-based positions + half-open notation range "
   ]
  },
  {
   "cell_type": "code",
   "execution_count": 150,
   "id": "8bc4e220",
   "metadata": {},
   "outputs": [],
   "source": [
    "# import existing mask.bed file\n",
    "bed = pd.read_csv('/Users/nashwa/Desktop/git/monkeypox-build/config/mask.bed', delimiter='\\t')\n",
    "bed_made = pd.read_csv('/Users/nashwa/Desktop/git/monkeypox-build/config/mask.bed', delimiter='\\t')\n",
    "\n",
    "# append sites-to-mask to df  \n",
    "for i in range((len(bed)+1), prune):\n",
    "    bed_made.loc[i,'Chrom'] = 'chr'\n",
    "    bed_made.loc[i,'ChromStart'] = remove[i]\n",
    "    bed_made.loc[i,'ChromEnd'] = remove[i] + 1\n"
   ]
  },
  {
   "cell_type": "code",
   "execution_count": null,
   "id": "7f699937",
   "metadata": {},
   "outputs": [],
   "source": [
    "# export new BED file. Use with `augur mask --mask [BED file]`. \n",
    "bed_made.to_csv(\"to_mask.bed\", sep = \"\\t\", index=False)"
   ]
  },
  {
   "cell_type": "code",
   "execution_count": 164,
   "id": "8ed16122",
   "metadata": {},
   "outputs": [
    {
     "name": "stdout",
     "output_type": "stream",
     "text": [
      "before pruning:\n",
      "alignment length: 197209\n",
      "variant sites: 456 ( 0.002 %)\n",
      "invariant sites: 196753 ( 0.998 %)\n",
      "\n",
      "\n",
      "after pruning:\n",
      "alignment length: 19721 (removed 177488 sites)\n",
      "variant sites: 456 ( 0.023 %)\n",
      "invariant sites: 19265 ( 0.977 %)\n"
     ]
    }
   ],
   "source": [
    "## report basic stats\n",
    "\n",
    "print(\"before pruning:\")\n",
    "print(\"alignment length:\", alignment_length)\n",
    "print(\"variant sites:\", len(snps), '(',var_frac,'%)')\n",
    "print(\"invariant sites:\", len(invar), '(', mono_frac,'%)')\n",
    "print(\"\\n\")\n",
    "print(\"after pruning:\")\n",
    "print(\"alignment length:\", (len(invar) - prune) + len(snps), '(removed', prune, 'sites)' )  \n",
    "print(\"variant sites:\", len(snps),\n",
    "      '(',round(  (len(snps) / ((len(invar) - prune)+len(snps))) ,3),'%)')\n",
    "print(\"invariant sites:\", len(invar) - prune, \n",
    "      '(', round( (len(invar)-prune) / ((len(invar) - prune)+len(snps)),3  )  ,'%)')"
   ]
  }
 ],
 "metadata": {
  "kernelspec": {
   "display_name": "Python 3 (ipykernel)",
   "language": "python",
   "name": "python3"
  },
  "language_info": {
   "codemirror_mode": {
    "name": "ipython",
    "version": 3
   },
   "file_extension": ".py",
   "mimetype": "text/x-python",
   "name": "python",
   "nbconvert_exporter": "python",
   "pygments_lexer": "ipython3",
   "version": "3.9.12"
  }
 },
 "nbformat": 4,
 "nbformat_minor": 5
}

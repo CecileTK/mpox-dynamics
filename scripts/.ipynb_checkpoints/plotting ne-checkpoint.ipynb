{
 "cells": [
  {
   "cell_type": "markdown",
   "id": "1a8f4e64",
   "metadata": {},
   "source": [
    "# HMPXV1 Dynamics\n",
    "## Plotting sequence-derived estimates of Ne/t \n",
    "This notebook plots estimates of effective population size for hmpxv1 during the outbreak in 2022. "
   ]
  },
  {
   "cell_type": "code",
   "execution_count": null,
   "id": "cbdf987d",
   "metadata": {},
   "outputs": [],
   "source": [
    "## load packages \n",
    "\n",
    "import pandas as pd \n",
    "import numpy as np\n",
    "\n",
    "bt = imp.load_source('baltic', '/Users/lmoncla/src/baltic/baltic/baltic.py')\n",
    "\n",
    "%matplotlib inline\n",
    "import matplotlib as mpl\n",
    "from matplotlib import pyplot as plt\n",
    "import matplotlib.patheffects as path_effects\n",
    "import matplotlib.lines as mlines\n",
    "from matplotlib.font_manager import FontProperties\n",
    "import matplotlib.colors as clr\n",
    "import textwrap as textwrap\n",
    "from textwrap import wrap\n",
    "\n",
    "\n"
   ]
  },
  {
   "cell_type": "code",
   "execution_count": null,
   "id": "f1ce5400",
   "metadata": {},
   "outputs": [],
   "source": [
    "from datetime import date\n",
    "current_date = str(date.today())"
   ]
  },
  {
   "cell_type": "code",
   "execution_count": 5,
   "id": "c0b96e22",
   "metadata": {},
   "outputs": [
    {
     "data": {
      "text/plain": [
       "'/Users/nashwa/Desktop/git/hmpxv_dynamics/scripts'"
      ]
     },
     "execution_count": 5,
     "metadata": {},
     "output_type": "execute_result"
    }
   ],
   "source": [
    "import os \n",
    "os.getcwd()"
   ]
  },
  {
   "cell_type": "code",
   "execution_count": null,
   "id": "8f3bf86e",
   "metadata": {},
   "outputs": [],
   "source": [
    "# define colors \n",
    "## by country?/region? \n"
   ]
  },
  {
   "cell_type": "code",
   "execution_count": 6,
   "id": "3925ff37",
   "metadata": {},
   "outputs": [],
   "source": [
    "## read in skyline log files \n",
    "\n",
    "#skyline_logfile = {\"log\": \"/Users/nashwa/Desktop/pandemic_skyline.log\"}\n",
    "\n",
    "#skyline_df = pd.DataFram(skyline_logfile)"
   ]
  },
  {
   "cell_type": "code",
   "execution_count": null,
   "id": "a2705aed",
   "metadata": {},
   "outputs": [],
   "source": [
    "## discard burn in \n",
    "burn_in = 0.10 \n",
    "remove_burnt = int(len(skyline_df)*burn_in)\n",
    "\n"
   ]
  },
  {
   "cell_type": "code",
   "execution_count": null,
   "id": "0d89f76f",
   "metadata": {},
   "outputs": [],
   "source": [
    "skyline_path = \"/Users/nashwa/Desktop/pandemic_skyline.log\""
   ]
  },
  {
   "cell_type": "code",
   "execution_count": 1,
   "id": "1f1842d4",
   "metadata": {},
   "outputs": [
    {
     "ename": "SyntaxError",
     "evalue": "invalid syntax (1530495737.py, line 5)",
     "output_type": "error",
     "traceback": [
      "\u001b[0;36m  Input \u001b[0;32mIn [1]\u001b[0;36m\u001b[0m\n\u001b[0;31m    line number = 0 #start at first line, which is probably '# BEAST v...\"\u001b[0m\n\u001b[0m         ^\u001b[0m\n\u001b[0;31mSyntaxError\u001b[0m\u001b[0;31m:\u001b[0m invalid syntax\n"
     ]
    }
   ],
   "source": [
    "def reading_Ne(skyline_path):\n",
    "    skyline_dictionary = {\"state\":[]}\n",
    "    cols = [] \n",
    "    with open(skyline_path, \"r\") as infile: \n",
    "       # line number = 0 #start at first line, which is probably '# BEAST v...\"\n",
    "        for line in infile:\n",
    "            if \"#\" in line: \n",
    "                continue \n",
    "                \n",
    "            elif \"#\" not in line: \n",
    "                if \"posterior\" in line:\n",
    "                row = 0 \n",
    "                splits = line.split(\"\\t\") #tab delimit each column name\n",
    "                # indices = []\n",
    "                #keys = [] \n",
    "                for i in splits:\n",
    "                    cols[i] = splits[i] #store col names in col[]\n",
    "                    #indices[i] = col #index col      \n",
    "                else:\n",
    "                    row += 1 \n",
    "                    \n",
    "                    \n",
    "            \n",
    "            state = line.split(\"\\t\")[0]\n",
    "            skyline_dictionary[\"state\"].append(state)\n",
    "            \n",
    "            for index in indices:\n",
    "                \n",
    "            \n",
    "                    \n",
    "                    \n",
    "        "
   ]
  },
  {
   "cell_type": "code",
   "execution_count": null,
   "id": "f6f7f324",
   "metadata": {},
   "outputs": [],
   "source": [
    "## calculate intervals \n",
    "youngest_tip = 2022.161643\n",
    "mean_root_height # = \n",
    "group_size = 10 \n",
    "interval = (youngest_tip - mean_root_height)/group_size #? "
   ]
  }
 ],
 "metadata": {
  "kernelspec": {
   "display_name": "Python 3 (ipykernel)",
   "language": "python",
   "name": "python3"
  },
  "language_info": {
   "codemirror_mode": {
    "name": "ipython",
    "version": 3
   },
   "file_extension": ".py",
   "mimetype": "text/x-python",
   "name": "python",
   "nbconvert_exporter": "python",
   "pygments_lexer": "ipython3",
   "version": "3.10.4"
  }
 },
 "nbformat": 4,
 "nbformat_minor": 5
}

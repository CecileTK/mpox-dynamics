{
 "cells": [
  {
   "cell_type": "markdown",
   "id": "9524cb08",
   "metadata": {},
   "source": [
    "# hmpxv data preparation - geographic binning \n",
    "### This script takes in a metadata.tsv file and populates the 'location' column with regional tags.\n",
    "The goal is to avoid dropping countries with only 1 or 2 hmpxv sequences by grouping them with nearby countries' sequences. "
   ]
  },
  {
   "cell_type": "code",
   "execution_count": 1,
   "id": "b4cc06c1",
   "metadata": {},
   "outputs": [],
   "source": [
    "import os\n",
    "import pandas as pd"
   ]
  },
  {
   "cell_type": "code",
   "execution_count": 2,
   "id": "37e3cd93",
   "metadata": {},
   "outputs": [],
   "source": [
    "## import metadata.csv\n",
    "metadata=pd.read_csv('/Users/nashwa/Desktop/git/hmpxv_dynamics/monkeypox-build/data/metadata.tsv', sep='\\t')\n",
    "meta=pd.DataFrame(metadata)"
   ]
  },
  {
   "cell_type": "code",
   "execution_count": 3,
   "id": "146f5b33",
   "metadata": {},
   "outputs": [],
   "source": [
    "## define bins\n",
    "## here, countries are grouped together regardless of sample count. \n",
    "\n",
    "dic = {'USA':\"USA_CANADA\",\n",
    "       'Canada':\"USA_CANADA\",\n",
    "       \n",
    "       'United Kingdom':\"UK_IRELAND\",\n",
    "       'Ireland':\"UK_IRELAND\",\n",
    "       \n",
    "       'Italy':\"EUROPE_SOUTH\",\n",
    "       'Spain':\"EUROPE_SOUTH\",\n",
    "       'Portugal':\"EUROPE_SOUTH\",\n",
    "       \n",
    "       'Finland':\"EUROPE_NORTH\",\n",
    "       'Sweden':\"EUROPE_NORTH\",\n",
    "       \n",
    "       'France':\"EUROPE_WEST\",\n",
    "       'Belgium':\"EUROPE_WEST\",\n",
    "       'Netherlands':\"EUROPE_WEST\",\n",
    "       'Germany':\"EUROPE_WEST\",\n",
    "       'Switzerland':\"EUROPE_WEST\",\n",
    "       \n",
    "       'Austria':\"EUROPE_EAST\",\n",
    "       'Slovakia':\"EUROPE_EAST\",\n",
    "       'Czech Republic':\"EUROPE_EAST\",\n",
    "       'Slovenia': \"EUROPE_EAST\",\n",
    "       \n",
    "       \n",
    "       'Japan':\"ASIA_EAST\",\n",
    "       'South Korea':\"ASIA_EAST\",\n",
    "       'Taiwan':\"ASIA_EAST\",\n",
    "       \n",
    "       'Mexico':\"SOUTH_AMERICA\",\n",
    "       'Peru':\"SOUTH_AMERICA\",\n",
    "       'Colombia':\"SOUTH_AMERICA\",\n",
    "       'Brazil':'SOUTH_AMERICA'}"
   ]
  },
  {
   "cell_type": "code",
   "execution_count": 5,
   "id": "434c24f3",
   "metadata": {},
   "outputs": [],
   "source": [
    "## populate 'location' column with new values\n",
    "\n",
    "for i in range(1,len(meta.index)):\n",
    "    for key in dic.keys():\n",
    "        if meta.loc[i,'country'] == key:\n",
    "                meta.loc[i,'location'] = dic[key]"
   ]
  },
  {
   "cell_type": "code",
   "execution_count": 72,
   "id": "9fe8cbe5",
   "metadata": {},
   "outputs": [],
   "source": [
    "## export tsv\n",
    "meta.to_csv('/Users/nashwa/Desktop/git/hmpxv_dynamics/monkeypox-build/data/geo_bin.tsv', sep='\\t')"
   ]
  },
  {
   "cell_type": "code",
   "execution_count": 6,
   "id": "684127a8",
   "metadata": {},
   "outputs": [],
   "source": [
    "## new binning method\n",
    "## here, countries with >100 sequences are left alone, while countries with fewer samples are grouped together.\n",
    "\n",
    "big_meta=pd.DataFrame(metadata)\n",
    "\n",
    "## define bins; bin stand alone countries as themselves\n",
    "big_dic = {'USA':\"USA\",\n",
    "       'Canada':\"Canada\",\n",
    "       \n",
    "       'United Kingdom':\"UK_IRELAND\",\n",
    "       'Ireland':\"UK_IRELAND\", ## ireland is an exception, remains binned with UK samples\n",
    "       \n",
    "       'Italy':\"EUROPE_SOUTH\",\n",
    "       'Spain':\"EUROPE_SOUTH\",\n",
    "       'Portugal':\"Portugal\",\n",
    "       \n",
    "       'Finland':\"EUROPE_NORTH\",\n",
    "       'Sweden':\"EUROPE_NORTH\",\n",
    "       \n",
    "       'France':\"EUROPE_WEST\",\n",
    "       'Belgium':\"EUROPE_WEST\",\n",
    "       'Netherlands':\"EUROPE_WEST\",\n",
    "       'Germany':\"Germany\",\n",
    "       'Switzerland':\"EUROPE_WEST\",\n",
    "       \n",
    "       'Austria':\"EUROPE_EAST\",\n",
    "       'Slovakia':\"EUROPE_EAST\",\n",
    "       'Czech Republic':\"EUROPE_EAST\",\n",
    "       'Slovenia': \"EUROPE_EAST\",\n",
    "       \n",
    "       'Japan':\"ASIA_EAST\",\n",
    "       'South Korea':\"ASIA_EAST\",\n",
    "       'Taiwan':\"ASIA_EAST\",\n",
    "       \n",
    "       'Mexico':\"SOUTH_AMERICA\",\n",
    "       'Peru':\"SOUTH_AMERICA\",\n",
    "       'Colombia':\"SOUTH_AMERICA\",\n",
    "       'Brazil':'SOUTH_AMERICA'}\n",
    "\n",
    "\n",
    "## populate 'location' column with new values\n",
    "for i in range(1,len(big_meta.index)):\n",
    "    for key in big_dic.keys():\n",
    "        if big_meta.loc[i,'country'] == key:\n",
    "                big_meta.loc[i,'location'] = big_dic[key]"
   ]
  },
  {
   "cell_type": "code",
   "execution_count": null,
   "id": "a121944c",
   "metadata": {},
   "outputs": [],
   "source": [
    "## export tsv\n",
    "big_meta.to_csv('/Users/nashwa/Desktop/git/hmpxv_dynamics/monkeypox-build/data/big_geo_bin.tsv', sep='\\t')"
   ]
  },
  {
   "cell_type": "code",
   "execution_count": null,
   "id": "1e9f9c20",
   "metadata": {},
   "outputs": [],
   "source": [
    "## in case to_csv causes issues with date parsing in BEAUTI -- e.g. '5/07/22' is read in Y/M/D format\n",
    "## this reformats to Y-m-d\n",
    "\n",
    "import datetime\n",
    "\n",
    "months = ('4', '5', '6', '7', '8', '9', '10')\n",
    "\n",
    "m = pd.DataFrame(big_meta)\n",
    "\n",
    "for i in range(1, len(m.index)): \n",
    "    if type(m.loc[i,'date']) == str: \n",
    "        if m.loc[i, 'date'].startswith(months):\n",
    "            date = m.loc[i, 'date']\n",
    "            m.loc[i,'date'] = datetime.datetime.strptime(date, '%m/%d/%Y').strftime('%Y-%m-%d')"
   ]
  },
  {
   "cell_type": "code",
   "execution_count": null,
   "id": "9ecf0a52",
   "metadata": {},
   "outputs": [],
   "source": [
    "## export tsv\n",
    "m.to_csv('/Users/nashwa/Desktop/git/hmpxv_dynamics/monkeypox-build/data/clean_dates.tsv', sep='\\t')"
   ]
  }
 ],
 "metadata": {
  "kernelspec": {
   "display_name": "Python 3 (ipykernel)",
   "language": "python",
   "name": "python3"
  },
  "language_info": {
   "codemirror_mode": {
    "name": "ipython",
    "version": 3
   },
   "file_extension": ".py",
   "mimetype": "text/x-python",
   "name": "python",
   "nbconvert_exporter": "python",
   "pygments_lexer": "ipython3",
   "version": "3.9.12"
  }
 },
 "nbformat": 4,
 "nbformat_minor": 5
}
